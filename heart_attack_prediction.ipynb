{
  "cells": [
    {
      "cell_type": "code",
      "execution_count": 5,
      "id": "dedb65a6",
      "metadata": {
        "_cell_guid": "b1076dfc-b9ad-4769-8c92-a6c4dae69d19",
        "_uuid": "8f2839f25d086af736a60e9eeb907d3b93b6e0e5",
        "execution": {
          "iopub.execute_input": "2023-12-25T07:45:42.589749Z",
          "iopub.status.busy": "2023-12-25T07:45:42.589269Z",
          "iopub.status.idle": "2023-12-25T07:45:44.634438Z",
          "shell.execute_reply": "2023-12-25T07:45:44.633160Z"
        },
        "papermill": {
          "duration": 2.081272,
          "end_time": "2023-12-25T07:45:44.637005",
          "exception": false,
          "start_time": "2023-12-25T07:45:42.555733",
          "status": "completed"
        },
        "tags": [],
        "id": "dedb65a6"
      },
      "outputs": [],
      "source": [
        "import pandas as pd\n",
        "import numpy as np\n",
        "import matplotlib.pyplot as plt\n",
        "import seaborn as sns\n",
        "import warnings\n",
        "warnings.filterwarnings('ignore')"
      ]
    },
    {
      "cell_type": "code",
      "source": [
        "from google.colab import drive\n",
        "drive.mount('/content/drive')"
      ],
      "metadata": {
        "colab": {
          "base_uri": "https://localhost:8080/"
        },
        "id": "fQiu3wuwOO1-",
        "outputId": "5d380a0e-79c7-4eb8-d43e-1390b217fd30"
      },
      "id": "fQiu3wuwOO1-",
      "execution_count": 4,
      "outputs": [
        {
          "output_type": "stream",
          "name": "stdout",
          "text": [
            "Mounted at /content/drive\n"
          ]
        }
      ]
    },
    {
      "cell_type": "code",
      "execution_count": 6,
      "id": "37582098",
      "metadata": {
        "execution": {
          "iopub.execute_input": "2023-12-25T07:45:44.702188Z",
          "iopub.status.busy": "2023-12-25T07:45:44.701319Z",
          "iopub.status.idle": "2023-12-25T07:45:44.783397Z",
          "shell.execute_reply": "2023-12-25T07:45:44.782505Z"
        },
        "papermill": {
          "duration": 0.118627,
          "end_time": "2023-12-25T07:45:44.786105",
          "exception": false,
          "start_time": "2023-12-25T07:45:44.667478",
          "status": "completed"
        },
        "tags": [],
        "id": "37582098"
      },
      "outputs": [],
      "source": [
        "data = pd.read_csv(\"/content/drive/MyDrive/ML_project/heart_attack_prediction_dataset.csv\")"
      ]
    },
    {
      "cell_type": "code",
      "execution_count": 7,
      "id": "1efaaf38",
      "metadata": {
        "execution": {
          "iopub.execute_input": "2023-12-25T07:45:44.848903Z",
          "iopub.status.busy": "2023-12-25T07:45:44.848469Z",
          "iopub.status.idle": "2023-12-25T07:45:44.854146Z",
          "shell.execute_reply": "2023-12-25T07:45:44.853254Z"
        },
        "papermill": {
          "duration": 0.040091,
          "end_time": "2023-12-25T07:45:44.856462",
          "exception": false,
          "start_time": "2023-12-25T07:45:44.816371",
          "status": "completed"
        },
        "tags": [],
        "id": "1efaaf38"
      },
      "outputs": [],
      "source": [
        "df = data.copy()"
      ]
    },
    {
      "cell_type": "code",
      "execution_count": 8,
      "id": "1b886d0a",
      "metadata": {
        "execution": {
          "iopub.execute_input": "2023-12-25T07:45:44.919548Z",
          "iopub.status.busy": "2023-12-25T07:45:44.918853Z",
          "iopub.status.idle": "2023-12-25T07:45:44.962537Z",
          "shell.execute_reply": "2023-12-25T07:45:44.961362Z"
        },
        "papermill": {
          "duration": 0.078398,
          "end_time": "2023-12-25T07:45:44.965475",
          "exception": false,
          "start_time": "2023-12-25T07:45:44.887077",
          "status": "completed"
        },
        "tags": [],
        "colab": {
          "base_uri": "https://localhost:8080/",
          "height": 394
        },
        "id": "1b886d0a",
        "outputId": "bfc7e003-1dd7-48cb-9780-bbac3a398a23"
      },
      "outputs": [
        {
          "output_type": "execute_result",
          "data": {
            "text/plain": [
              "  Patient ID  Age     Sex  Cholesterol Blood Pressure  Heart Rate  Diabetes  \\\n",
              "0    BMW7812   67    Male          208         158/88          72         0   \n",
              "1    CZE1114   21    Male          389         165/93          98         1   \n",
              "2    BNI9906   21  Female          324         174/99          72         1   \n",
              "3    JLN3497   84    Male          383        163/100          73         1   \n",
              "4    GFO8847   66    Male          318          91/88          93         1   \n",
              "\n",
              "   Family History  Smoking  Obesity  ...  Sedentary Hours Per Day  Income  \\\n",
              "0               0        1        0  ...                 6.615001  261404   \n",
              "1               1        1        1  ...                 4.963459  285768   \n",
              "2               0        0        0  ...                 9.463426  235282   \n",
              "3               1        1        0  ...                 7.648981  125640   \n",
              "4               1        1        1  ...                 1.514821  160555   \n",
              "\n",
              "         BMI  Triglycerides  Physical Activity Days Per Week  \\\n",
              "0  31.251233            286                                0   \n",
              "1  27.194973            235                                1   \n",
              "2  28.176571            587                                4   \n",
              "3  36.464704            378                                3   \n",
              "4  21.809144            231                                1   \n",
              "\n",
              "   Sleep Hours Per Day    Country      Continent           Hemisphere  \\\n",
              "0                    6  Argentina  South America  Southern Hemisphere   \n",
              "1                    7     Canada  North America  Northern Hemisphere   \n",
              "2                    4     France         Europe  Northern Hemisphere   \n",
              "3                    4     Canada  North America  Northern Hemisphere   \n",
              "4                    5   Thailand           Asia  Northern Hemisphere   \n",
              "\n",
              "   Heart Attack Risk  \n",
              "0                  0  \n",
              "1                  0  \n",
              "2                  0  \n",
              "3                  0  \n",
              "4                  0  \n",
              "\n",
              "[5 rows x 26 columns]"
            ],
            "text/html": [
              "\n",
              "  <div id=\"df-35fc4837-ef09-4a6e-82a8-b7e61a081093\" class=\"colab-df-container\">\n",
              "    <div>\n",
              "<style scoped>\n",
              "    .dataframe tbody tr th:only-of-type {\n",
              "        vertical-align: middle;\n",
              "    }\n",
              "\n",
              "    .dataframe tbody tr th {\n",
              "        vertical-align: top;\n",
              "    }\n",
              "\n",
              "    .dataframe thead th {\n",
              "        text-align: right;\n",
              "    }\n",
              "</style>\n",
              "<table border=\"1\" class=\"dataframe\">\n",
              "  <thead>\n",
              "    <tr style=\"text-align: right;\">\n",
              "      <th></th>\n",
              "      <th>Patient ID</th>\n",
              "      <th>Age</th>\n",
              "      <th>Sex</th>\n",
              "      <th>Cholesterol</th>\n",
              "      <th>Blood Pressure</th>\n",
              "      <th>Heart Rate</th>\n",
              "      <th>Diabetes</th>\n",
              "      <th>Family History</th>\n",
              "      <th>Smoking</th>\n",
              "      <th>Obesity</th>\n",
              "      <th>...</th>\n",
              "      <th>Sedentary Hours Per Day</th>\n",
              "      <th>Income</th>\n",
              "      <th>BMI</th>\n",
              "      <th>Triglycerides</th>\n",
              "      <th>Physical Activity Days Per Week</th>\n",
              "      <th>Sleep Hours Per Day</th>\n",
              "      <th>Country</th>\n",
              "      <th>Continent</th>\n",
              "      <th>Hemisphere</th>\n",
              "      <th>Heart Attack Risk</th>\n",
              "    </tr>\n",
              "  </thead>\n",
              "  <tbody>\n",
              "    <tr>\n",
              "      <th>0</th>\n",
              "      <td>BMW7812</td>\n",
              "      <td>67</td>\n",
              "      <td>Male</td>\n",
              "      <td>208</td>\n",
              "      <td>158/88</td>\n",
              "      <td>72</td>\n",
              "      <td>0</td>\n",
              "      <td>0</td>\n",
              "      <td>1</td>\n",
              "      <td>0</td>\n",
              "      <td>...</td>\n",
              "      <td>6.615001</td>\n",
              "      <td>261404</td>\n",
              "      <td>31.251233</td>\n",
              "      <td>286</td>\n",
              "      <td>0</td>\n",
              "      <td>6</td>\n",
              "      <td>Argentina</td>\n",
              "      <td>South America</td>\n",
              "      <td>Southern Hemisphere</td>\n",
              "      <td>0</td>\n",
              "    </tr>\n",
              "    <tr>\n",
              "      <th>1</th>\n",
              "      <td>CZE1114</td>\n",
              "      <td>21</td>\n",
              "      <td>Male</td>\n",
              "      <td>389</td>\n",
              "      <td>165/93</td>\n",
              "      <td>98</td>\n",
              "      <td>1</td>\n",
              "      <td>1</td>\n",
              "      <td>1</td>\n",
              "      <td>1</td>\n",
              "      <td>...</td>\n",
              "      <td>4.963459</td>\n",
              "      <td>285768</td>\n",
              "      <td>27.194973</td>\n",
              "      <td>235</td>\n",
              "      <td>1</td>\n",
              "      <td>7</td>\n",
              "      <td>Canada</td>\n",
              "      <td>North America</td>\n",
              "      <td>Northern Hemisphere</td>\n",
              "      <td>0</td>\n",
              "    </tr>\n",
              "    <tr>\n",
              "      <th>2</th>\n",
              "      <td>BNI9906</td>\n",
              "      <td>21</td>\n",
              "      <td>Female</td>\n",
              "      <td>324</td>\n",
              "      <td>174/99</td>\n",
              "      <td>72</td>\n",
              "      <td>1</td>\n",
              "      <td>0</td>\n",
              "      <td>0</td>\n",
              "      <td>0</td>\n",
              "      <td>...</td>\n",
              "      <td>9.463426</td>\n",
              "      <td>235282</td>\n",
              "      <td>28.176571</td>\n",
              "      <td>587</td>\n",
              "      <td>4</td>\n",
              "      <td>4</td>\n",
              "      <td>France</td>\n",
              "      <td>Europe</td>\n",
              "      <td>Northern Hemisphere</td>\n",
              "      <td>0</td>\n",
              "    </tr>\n",
              "    <tr>\n",
              "      <th>3</th>\n",
              "      <td>JLN3497</td>\n",
              "      <td>84</td>\n",
              "      <td>Male</td>\n",
              "      <td>383</td>\n",
              "      <td>163/100</td>\n",
              "      <td>73</td>\n",
              "      <td>1</td>\n",
              "      <td>1</td>\n",
              "      <td>1</td>\n",
              "      <td>0</td>\n",
              "      <td>...</td>\n",
              "      <td>7.648981</td>\n",
              "      <td>125640</td>\n",
              "      <td>36.464704</td>\n",
              "      <td>378</td>\n",
              "      <td>3</td>\n",
              "      <td>4</td>\n",
              "      <td>Canada</td>\n",
              "      <td>North America</td>\n",
              "      <td>Northern Hemisphere</td>\n",
              "      <td>0</td>\n",
              "    </tr>\n",
              "    <tr>\n",
              "      <th>4</th>\n",
              "      <td>GFO8847</td>\n",
              "      <td>66</td>\n",
              "      <td>Male</td>\n",
              "      <td>318</td>\n",
              "      <td>91/88</td>\n",
              "      <td>93</td>\n",
              "      <td>1</td>\n",
              "      <td>1</td>\n",
              "      <td>1</td>\n",
              "      <td>1</td>\n",
              "      <td>...</td>\n",
              "      <td>1.514821</td>\n",
              "      <td>160555</td>\n",
              "      <td>21.809144</td>\n",
              "      <td>231</td>\n",
              "      <td>1</td>\n",
              "      <td>5</td>\n",
              "      <td>Thailand</td>\n",
              "      <td>Asia</td>\n",
              "      <td>Northern Hemisphere</td>\n",
              "      <td>0</td>\n",
              "    </tr>\n",
              "  </tbody>\n",
              "</table>\n",
              "<p>5 rows × 26 columns</p>\n",
              "</div>\n",
              "    <div class=\"colab-df-buttons\">\n",
              "\n",
              "  <div class=\"colab-df-container\">\n",
              "    <button class=\"colab-df-convert\" onclick=\"convertToInteractive('df-35fc4837-ef09-4a6e-82a8-b7e61a081093')\"\n",
              "            title=\"Convert this dataframe to an interactive table.\"\n",
              "            style=\"display:none;\">\n",
              "\n",
              "  <svg xmlns=\"http://www.w3.org/2000/svg\" height=\"24px\" viewBox=\"0 -960 960 960\">\n",
              "    <path d=\"M120-120v-720h720v720H120Zm60-500h600v-160H180v160Zm220 220h160v-160H400v160Zm0 220h160v-160H400v160ZM180-400h160v-160H180v160Zm440 0h160v-160H620v160ZM180-180h160v-160H180v160Zm440 0h160v-160H620v160Z\"/>\n",
              "  </svg>\n",
              "    </button>\n",
              "\n",
              "  <style>\n",
              "    .colab-df-container {\n",
              "      display:flex;\n",
              "      gap: 12px;\n",
              "    }\n",
              "\n",
              "    .colab-df-convert {\n",
              "      background-color: #E8F0FE;\n",
              "      border: none;\n",
              "      border-radius: 50%;\n",
              "      cursor: pointer;\n",
              "      display: none;\n",
              "      fill: #1967D2;\n",
              "      height: 32px;\n",
              "      padding: 0 0 0 0;\n",
              "      width: 32px;\n",
              "    }\n",
              "\n",
              "    .colab-df-convert:hover {\n",
              "      background-color: #E2EBFA;\n",
              "      box-shadow: 0px 1px 2px rgba(60, 64, 67, 0.3), 0px 1px 3px 1px rgba(60, 64, 67, 0.15);\n",
              "      fill: #174EA6;\n",
              "    }\n",
              "\n",
              "    .colab-df-buttons div {\n",
              "      margin-bottom: 4px;\n",
              "    }\n",
              "\n",
              "    [theme=dark] .colab-df-convert {\n",
              "      background-color: #3B4455;\n",
              "      fill: #D2E3FC;\n",
              "    }\n",
              "\n",
              "    [theme=dark] .colab-df-convert:hover {\n",
              "      background-color: #434B5C;\n",
              "      box-shadow: 0px 1px 3px 1px rgba(0, 0, 0, 0.15);\n",
              "      filter: drop-shadow(0px 1px 2px rgba(0, 0, 0, 0.3));\n",
              "      fill: #FFFFFF;\n",
              "    }\n",
              "  </style>\n",
              "\n",
              "    <script>\n",
              "      const buttonEl =\n",
              "        document.querySelector('#df-35fc4837-ef09-4a6e-82a8-b7e61a081093 button.colab-df-convert');\n",
              "      buttonEl.style.display =\n",
              "        google.colab.kernel.accessAllowed ? 'block' : 'none';\n",
              "\n",
              "      async function convertToInteractive(key) {\n",
              "        const element = document.querySelector('#df-35fc4837-ef09-4a6e-82a8-b7e61a081093');\n",
              "        const dataTable =\n",
              "          await google.colab.kernel.invokeFunction('convertToInteractive',\n",
              "                                                    [key], {});\n",
              "        if (!dataTable) return;\n",
              "\n",
              "        const docLinkHtml = 'Like what you see? Visit the ' +\n",
              "          '<a target=\"_blank\" href=https://colab.research.google.com/notebooks/data_table.ipynb>data table notebook</a>'\n",
              "          + ' to learn more about interactive tables.';\n",
              "        element.innerHTML = '';\n",
              "        dataTable['output_type'] = 'display_data';\n",
              "        await google.colab.output.renderOutput(dataTable, element);\n",
              "        const docLink = document.createElement('div');\n",
              "        docLink.innerHTML = docLinkHtml;\n",
              "        element.appendChild(docLink);\n",
              "      }\n",
              "    </script>\n",
              "  </div>\n",
              "\n",
              "\n",
              "<div id=\"df-935d830b-53f7-4a17-9364-9b4d148d90ec\">\n",
              "  <button class=\"colab-df-quickchart\" onclick=\"quickchart('df-935d830b-53f7-4a17-9364-9b4d148d90ec')\"\n",
              "            title=\"Suggest charts\"\n",
              "            style=\"display:none;\">\n",
              "\n",
              "<svg xmlns=\"http://www.w3.org/2000/svg\" height=\"24px\"viewBox=\"0 0 24 24\"\n",
              "     width=\"24px\">\n",
              "    <g>\n",
              "        <path d=\"M19 3H5c-1.1 0-2 .9-2 2v14c0 1.1.9 2 2 2h14c1.1 0 2-.9 2-2V5c0-1.1-.9-2-2-2zM9 17H7v-7h2v7zm4 0h-2V7h2v10zm4 0h-2v-4h2v4z\"/>\n",
              "    </g>\n",
              "</svg>\n",
              "  </button>\n",
              "\n",
              "<style>\n",
              "  .colab-df-quickchart {\n",
              "      --bg-color: #E8F0FE;\n",
              "      --fill-color: #1967D2;\n",
              "      --hover-bg-color: #E2EBFA;\n",
              "      --hover-fill-color: #174EA6;\n",
              "      --disabled-fill-color: #AAA;\n",
              "      --disabled-bg-color: #DDD;\n",
              "  }\n",
              "\n",
              "  [theme=dark] .colab-df-quickchart {\n",
              "      --bg-color: #3B4455;\n",
              "      --fill-color: #D2E3FC;\n",
              "      --hover-bg-color: #434B5C;\n",
              "      --hover-fill-color: #FFFFFF;\n",
              "      --disabled-bg-color: #3B4455;\n",
              "      --disabled-fill-color: #666;\n",
              "  }\n",
              "\n",
              "  .colab-df-quickchart {\n",
              "    background-color: var(--bg-color);\n",
              "    border: none;\n",
              "    border-radius: 50%;\n",
              "    cursor: pointer;\n",
              "    display: none;\n",
              "    fill: var(--fill-color);\n",
              "    height: 32px;\n",
              "    padding: 0;\n",
              "    width: 32px;\n",
              "  }\n",
              "\n",
              "  .colab-df-quickchart:hover {\n",
              "    background-color: var(--hover-bg-color);\n",
              "    box-shadow: 0 1px 2px rgba(60, 64, 67, 0.3), 0 1px 3px 1px rgba(60, 64, 67, 0.15);\n",
              "    fill: var(--button-hover-fill-color);\n",
              "  }\n",
              "\n",
              "  .colab-df-quickchart-complete:disabled,\n",
              "  .colab-df-quickchart-complete:disabled:hover {\n",
              "    background-color: var(--disabled-bg-color);\n",
              "    fill: var(--disabled-fill-color);\n",
              "    box-shadow: none;\n",
              "  }\n",
              "\n",
              "  .colab-df-spinner {\n",
              "    border: 2px solid var(--fill-color);\n",
              "    border-color: transparent;\n",
              "    border-bottom-color: var(--fill-color);\n",
              "    animation:\n",
              "      spin 1s steps(1) infinite;\n",
              "  }\n",
              "\n",
              "  @keyframes spin {\n",
              "    0% {\n",
              "      border-color: transparent;\n",
              "      border-bottom-color: var(--fill-color);\n",
              "      border-left-color: var(--fill-color);\n",
              "    }\n",
              "    20% {\n",
              "      border-color: transparent;\n",
              "      border-left-color: var(--fill-color);\n",
              "      border-top-color: var(--fill-color);\n",
              "    }\n",
              "    30% {\n",
              "      border-color: transparent;\n",
              "      border-left-color: var(--fill-color);\n",
              "      border-top-color: var(--fill-color);\n",
              "      border-right-color: var(--fill-color);\n",
              "    }\n",
              "    40% {\n",
              "      border-color: transparent;\n",
              "      border-right-color: var(--fill-color);\n",
              "      border-top-color: var(--fill-color);\n",
              "    }\n",
              "    60% {\n",
              "      border-color: transparent;\n",
              "      border-right-color: var(--fill-color);\n",
              "    }\n",
              "    80% {\n",
              "      border-color: transparent;\n",
              "      border-right-color: var(--fill-color);\n",
              "      border-bottom-color: var(--fill-color);\n",
              "    }\n",
              "    90% {\n",
              "      border-color: transparent;\n",
              "      border-bottom-color: var(--fill-color);\n",
              "    }\n",
              "  }\n",
              "</style>\n",
              "\n",
              "  <script>\n",
              "    async function quickchart(key) {\n",
              "      const quickchartButtonEl =\n",
              "        document.querySelector('#' + key + ' button');\n",
              "      quickchartButtonEl.disabled = true;  // To prevent multiple clicks.\n",
              "      quickchartButtonEl.classList.add('colab-df-spinner');\n",
              "      try {\n",
              "        const charts = await google.colab.kernel.invokeFunction(\n",
              "            'suggestCharts', [key], {});\n",
              "      } catch (error) {\n",
              "        console.error('Error during call to suggestCharts:', error);\n",
              "      }\n",
              "      quickchartButtonEl.classList.remove('colab-df-spinner');\n",
              "      quickchartButtonEl.classList.add('colab-df-quickchart-complete');\n",
              "    }\n",
              "    (() => {\n",
              "      let quickchartButtonEl =\n",
              "        document.querySelector('#df-935d830b-53f7-4a17-9364-9b4d148d90ec button');\n",
              "      quickchartButtonEl.style.display =\n",
              "        google.colab.kernel.accessAllowed ? 'block' : 'none';\n",
              "    })();\n",
              "  </script>\n",
              "</div>\n",
              "\n",
              "    </div>\n",
              "  </div>\n"
            ]
          },
          "metadata": {},
          "execution_count": 8
        }
      ],
      "source": [
        "df.head()"
      ]
    },
    {
      "cell_type": "code",
      "execution_count": 9,
      "id": "8ce3147b",
      "metadata": {
        "execution": {
          "iopub.execute_input": "2023-12-25T07:45:45.094605Z",
          "iopub.status.busy": "2023-12-25T07:45:45.093529Z",
          "iopub.status.idle": "2023-12-25T07:45:45.101125Z",
          "shell.execute_reply": "2023-12-25T07:45:45.100061Z"
        },
        "papermill": {
          "duration": 0.106995,
          "end_time": "2023-12-25T07:45:45.103554",
          "exception": false,
          "start_time": "2023-12-25T07:45:44.996559",
          "status": "completed"
        },
        "tags": [],
        "colab": {
          "base_uri": "https://localhost:8080/"
        },
        "id": "8ce3147b",
        "outputId": "52c857b4-608c-4cd5-d9ba-f04846d7c13a"
      },
      "outputs": [
        {
          "output_type": "stream",
          "name": "stdout",
          "text": [
            "<class 'pandas.core.frame.DataFrame'>\n",
            "RangeIndex: 8763 entries, 0 to 8762\n",
            "Data columns (total 26 columns):\n",
            " #   Column                           Non-Null Count  Dtype  \n",
            "---  ------                           --------------  -----  \n",
            " 0   Patient ID                       8763 non-null   object \n",
            " 1   Age                              8763 non-null   int64  \n",
            " 2   Sex                              8763 non-null   object \n",
            " 3   Cholesterol                      8763 non-null   int64  \n",
            " 4   Blood Pressure                   8763 non-null   object \n",
            " 5   Heart Rate                       8763 non-null   int64  \n",
            " 6   Diabetes                         8763 non-null   int64  \n",
            " 7   Family History                   8763 non-null   int64  \n",
            " 8   Smoking                          8763 non-null   int64  \n",
            " 9   Obesity                          8763 non-null   int64  \n",
            " 10  Alcohol Consumption              8763 non-null   int64  \n",
            " 11  Exercise Hours Per Week          8763 non-null   float64\n",
            " 12  Diet                             8763 non-null   object \n",
            " 13  Previous Heart Problems          8763 non-null   int64  \n",
            " 14  Medication Use                   8763 non-null   int64  \n",
            " 15  Stress Level                     8763 non-null   int64  \n",
            " 16  Sedentary Hours Per Day          8763 non-null   float64\n",
            " 17  Income                           8763 non-null   int64  \n",
            " 18  BMI                              8763 non-null   float64\n",
            " 19  Triglycerides                    8763 non-null   int64  \n",
            " 20  Physical Activity Days Per Week  8763 non-null   int64  \n",
            " 21  Sleep Hours Per Day              8763 non-null   int64  \n",
            " 22  Country                          8763 non-null   object \n",
            " 23  Continent                        8763 non-null   object \n",
            " 24  Hemisphere                       8763 non-null   object \n",
            " 25  Heart Attack Risk                8763 non-null   int64  \n",
            "dtypes: float64(3), int64(16), object(7)\n",
            "memory usage: 1.7+ MB\n"
          ]
        }
      ],
      "source": [
        "df.info()"
      ]
    },
    {
      "cell_type": "markdown",
      "id": "29089792",
      "metadata": {
        "papermill": {
          "duration": 0.03055,
          "end_time": "2023-12-25T07:45:45.165096",
          "exception": false,
          "start_time": "2023-12-25T07:45:45.134546",
          "status": "completed"
        },
        "tags": [],
        "id": "29089792"
      },
      "source": [
        "<h1>Initial Observation</h1>\n",
        "<p>We have 26 columns (25 features & 1 class) to work with.<br>As we are predicting heart attack risk, we select Heart Attack Risk as our class column.<br>Because Heart Attack Risk only consists of 0 & 1, this is a classification problem.<br>Our dataset consists of both Categorical & Quantitive features.</p>"
      ]
    },
    {
      "cell_type": "code",
      "execution_count": 10,
      "id": "bdfdbbfb",
      "metadata": {
        "execution": {
          "iopub.execute_input": "2023-12-25T07:45:45.229673Z",
          "iopub.status.busy": "2023-12-25T07:45:45.229263Z",
          "iopub.status.idle": "2023-12-25T07:45:45.673119Z",
          "shell.execute_reply": "2023-12-25T07:45:45.671972Z"
        },
        "papermill": {
          "duration": 0.479077,
          "end_time": "2023-12-25T07:45:45.675742",
          "exception": false,
          "start_time": "2023-12-25T07:45:45.196665",
          "status": "completed"
        },
        "tags": [],
        "colab": {
          "base_uri": "https://localhost:8080/",
          "height": 863
        },
        "id": "bdfdbbfb",
        "outputId": "0eaf5678-9ebf-48ac-964e-d6c3f1f61f2e"
      },
      "outputs": [
        {
          "output_type": "display_data",
          "data": {
            "text/plain": [
              "<Figure size 640x480 with 1 Axes>"
            ],
            "image/png": "[encoded data removed]"
          },
          "metadata": {}
        },
        {
          "output_type": "display_data",
          "data": {
            "text/plain": [
              "<Figure size 640x480 with 1 Axes>"
            ],
            "image/png": "[encoded data removed]"
          },
          "metadata": {}
        }
      ],
      "source": [
        "labels = [\"No = 0\", \"Yes = 1\"]\n",
        "\n",
        "values = df[\"Heart Attack Risk\"].value_counts().to_numpy()\n",
        "\n",
        "plt.pie(values, labels=labels, autopct=\"%1.1f%%\")\n",
        "plt.title(\"Class Imbalance(Risk of Heart Attack)\")\n",
        "plt.show()\n",
        "\n",
        "plt.bar(x = labels, height = values)\n",
        "plt.title(\"Class Imbalance(Risk of Heart Attack)\")\n",
        "plt.show()"
      ]
    },
    {
      "cell_type": "markdown",
      "id": "74754bca",
      "metadata": {
        "papermill": {
          "duration": 0.031597,
          "end_time": "2023-12-25T07:45:45.740236",
          "exception": false,
          "start_time": "2023-12-25T07:45:45.708639",
          "status": "completed"
        },
        "tags": [],
        "id": "74754bca"
      },
      "source": [
        "<p>As we can see, class imbalance is present in the dataset</p>"
      ]
    },
    {
      "cell_type": "markdown",
      "id": "14241a43",
      "metadata": {
        "papermill": {
          "duration": 0.031655,
          "end_time": "2023-12-25T07:45:45.804026",
          "exception": false,
          "start_time": "2023-12-25T07:45:45.772371",
          "status": "completed"
        },
        "tags": [],
        "id": "14241a43"
      },
      "source": [
        "<h1>Data Pre-processing</h1>"
      ]
    },
    {
      "cell_type": "markdown",
      "id": "ae54f8cb",
      "metadata": {
        "execution": {
          "iopub.execute_input": "2023-12-25T06:08:24.957559Z",
          "iopub.status.busy": "2023-12-25T06:08:24.957178Z",
          "iopub.status.idle": "2023-12-25T06:08:24.964109Z",
          "shell.execute_reply": "2023-12-25T06:08:24.962423Z",
          "shell.execute_reply.started": "2023-12-25T06:08:24.957531Z"
        },
        "papermill": {
          "duration": 0.031478,
          "end_time": "2023-12-25T07:45:45.867475",
          "exception": false,
          "start_time": "2023-12-25T07:45:45.835997",
          "status": "completed"
        },
        "tags": [],
        "id": "ae54f8cb"
      },
      "source": [
        "<h2> Handling Null Values </h2>"
      ]
    },
    {
      "cell_type": "code",
      "execution_count": 11,
      "id": "1f8fe562",
      "metadata": {
        "execution": {
          "iopub.execute_input": "2023-12-25T07:45:45.934019Z",
          "iopub.status.busy": "2023-12-25T07:45:45.933568Z",
          "iopub.status.idle": "2023-12-25T07:45:45.951044Z",
          "shell.execute_reply": "2023-12-25T07:45:45.949779Z"
        },
        "papermill": {
          "duration": 0.053446,
          "end_time": "2023-12-25T07:45:45.953513",
          "exception": false,
          "start_time": "2023-12-25T07:45:45.900067",
          "status": "completed"
        },
        "tags": [],
        "colab": {
          "base_uri": "https://localhost:8080/"
        },
        "id": "1f8fe562",
        "outputId": "87ff5e4c-066b-44f1-f1e7-dec563fff238"
      },
      "outputs": [
        {
          "output_type": "execute_result",
          "data": {
            "text/plain": [
              "Patient ID                         0\n",
              "Age                                0\n",
              "Sex                                0\n",
              "Cholesterol                        0\n",
              "Blood Pressure                     0\n",
              "Heart Rate                         0\n",
              "Diabetes                           0\n",
              "Family History                     0\n",
              "Smoking                            0\n",
              "Obesity                            0\n",
              "Alcohol Consumption                0\n",
              "Exercise Hours Per Week            0\n",
              "Diet                               0\n",
              "Previous Heart Problems            0\n",
              "Medication Use                     0\n",
              "Stress Level                       0\n",
              "Sedentary Hours Per Day            0\n",
              "Income                             0\n",
              "BMI                                0\n",
              "Triglycerides                      0\n",
              "Physical Activity Days Per Week    0\n",
              "Sleep Hours Per Day                0\n",
              "Country                            0\n",
              "Continent                          0\n",
              "Hemisphere                         0\n",
              "Heart Attack Risk                  0\n",
              "dtype: int64"
            ]
          },
          "metadata": {},
          "execution_count": 11
        }
      ],
      "source": [
        "df.isna().sum()"
      ]
    },
    {
      "cell_type": "markdown",
      "id": "1569de44",
      "metadata": {
        "papermill": {
          "duration": 0.032596,
          "end_time": "2023-12-25T07:45:46.018929",
          "exception": false,
          "start_time": "2023-12-25T07:45:45.986333",
          "status": "completed"
        },
        "tags": [],
        "id": "1569de44"
      },
      "source": [
        "<p>No Null value present in the current dataset</p>"
      ]
    },
    {
      "cell_type": "markdown",
      "id": "dfe150b7",
      "metadata": {
        "papermill": {
          "duration": 0.033207,
          "end_time": "2023-12-25T07:45:46.084515",
          "exception": false,
          "start_time": "2023-12-25T07:45:46.051308",
          "status": "completed"
        },
        "tags": [],
        "id": "dfe150b7"
      },
      "source": [
        "<h2>Spliting Blood Pressure</h2>"
      ]
    },
    {
      "cell_type": "code",
      "execution_count": 12,
      "id": "068cfbe7",
      "metadata": {
        "execution": {
          "iopub.execute_input": "2023-12-25T07:45:46.151441Z",
          "iopub.status.busy": "2023-12-25T07:45:46.151045Z",
          "iopub.status.idle": "2023-12-25T07:45:46.178419Z",
          "shell.execute_reply": "2023-12-25T07:45:46.177195Z"
        },
        "papermill": {
          "duration": 0.06422,
          "end_time": "2023-12-25T07:45:46.181563",
          "exception": false,
          "start_time": "2023-12-25T07:45:46.117343",
          "status": "completed"
        },
        "tags": [],
        "id": "068cfbe7"
      },
      "outputs": [],
      "source": [
        "#str = 180/120 = [\"180\", \"120\"]\n",
        "df[['BP_Systolic', 'BP_Diastolic']] = df['Blood Pressure'].str.split('/', expand=True)"
      ]
    },
    {
      "cell_type": "code",
      "execution_count": 13,
      "id": "6ec7a1b3",
      "metadata": {
        "execution": {
          "iopub.execute_input": "2023-12-25T07:45:46.248984Z",
          "iopub.status.busy": "2023-12-25T07:45:46.248521Z",
          "iopub.status.idle": "2023-12-25T07:45:46.277137Z",
          "shell.execute_reply": "2023-12-25T07:45:46.275476Z"
        },
        "papermill": {
          "duration": 0.065851,
          "end_time": "2023-12-25T07:45:46.280291",
          "exception": false,
          "start_time": "2023-12-25T07:45:46.214440",
          "status": "completed"
        },
        "tags": [],
        "id": "6ec7a1b3"
      },
      "outputs": [],
      "source": [
        "df['BP_Systolic'] = pd.to_numeric(df['BP_Systolic'])\n",
        "df['BP_Diastolic'] = pd.to_numeric(df['BP_Diastolic'])"
      ]
    },
    {
      "cell_type": "code",
      "source": [
        "df.drop(['Blood Pressure'], axis=1, inplace=True)\n",
        "df.head()"
      ],
      "metadata": {
        "colab": {
          "base_uri": "https://localhost:8080/",
          "height": 394
        },
        "id": "-gNi0hvZPpmh",
        "outputId": "a5fe748f-04be-4079-eeb9-ffb6ef1120b9"
      },
      "id": "-gNi0hvZPpmh",
      "execution_count": 14,
      "outputs": [
        {
          "output_type": "execute_result",
          "data": {
            "text/plain": [
              "  Patient ID  Age     Sex  Cholesterol  Heart Rate  Diabetes  Family History  \\\n",
              "0    BMW7812   67    Male          208          72         0               0   \n",
              "1    CZE1114   21    Male          389          98         1               1   \n",
              "2    BNI9906   21  Female          324          72         1               0   \n",
              "3    JLN3497   84    Male          383          73         1               1   \n",
              "4    GFO8847   66    Male          318          93         1               1   \n",
              "\n",
              "   Smoking  Obesity  Alcohol Consumption  ...        BMI Triglycerides  \\\n",
              "0        1        0                    0  ...  31.251233           286   \n",
              "1        1        1                    1  ...  27.194973           235   \n",
              "2        0        0                    0  ...  28.176571           587   \n",
              "3        1        0                    1  ...  36.464704           378   \n",
              "4        1        1                    0  ...  21.809144           231   \n",
              "\n",
              "   Physical Activity Days Per Week  Sleep Hours Per Day    Country  \\\n",
              "0                                0                    6  Argentina   \n",
              "1                                1                    7     Canada   \n",
              "2                                4                    4     France   \n",
              "3                                3                    4     Canada   \n",
              "4                                1                    5   Thailand   \n",
              "\n",
              "       Continent           Hemisphere  Heart Attack Risk  BP_Systolic  \\\n",
              "0  South America  Southern Hemisphere                  0          158   \n",
              "1  North America  Northern Hemisphere                  0          165   \n",
              "2         Europe  Northern Hemisphere                  0          174   \n",
              "3  North America  Northern Hemisphere                  0          163   \n",
              "4           Asia  Northern Hemisphere                  0           91   \n",
              "\n",
              "   BP_Diastolic  \n",
              "0            88  \n",
              "1            93  \n",
              "2            99  \n",
              "3           100  \n",
              "4            88  \n",
              "\n",
              "[5 rows x 27 columns]"
            ],
            "text/html": [
              "\n",
              "  <div id=\"df-f5890b44-875d-4929-a3a8-d5e6af882dd6\" class=\"colab-df-container\">\n",
              "    <div>\n",
              "<style scoped>\n",
              "    .dataframe tbody tr th:only-of-type {\n",
              "        vertical-align: middle;\n",
              "    }\n",
              "\n",
              "    .dataframe tbody tr th {\n",
              "        vertical-align: top;\n",
              "    }\n",
              "\n",
              "    .dataframe thead th {\n",
              "        text-align: right;\n",
              "    }\n",
              "</style>\n",
              "<table border=\"1\" class=\"dataframe\">\n",
              "  <thead>\n",
              "    <tr style=\"text-align: right;\">\n",
              "      <th></th>\n",
              "      <th>Patient ID</th>\n",
              "      <th>Age</th>\n",
              "      <th>Sex</th>\n",
              "      <th>Cholesterol</th>\n",
              "      <th>Heart Rate</th>\n",
              "      <th>Diabetes</th>\n",
              "      <th>Family History</th>\n",
              "      <th>Smoking</th>\n",
              "      <th>Obesity</th>\n",
              "      <th>Alcohol Consumption</th>\n",
              "      <th>...</th>\n",
              "      <th>BMI</th>\n",
              "      <th>Triglycerides</th>\n",
              "      <th>Physical Activity Days Per Week</th>\n",
              "      <th>Sleep Hours Per Day</th>\n",
              "      <th>Country</th>\n",
              "      <th>Continent</th>\n",
              "      <th>Hemisphere</th>\n",
              "      <th>Heart Attack Risk</th>\n",
              "      <th>BP_Systolic</th>\n",
              "      <th>BP_Diastolic</th>\n",
              "    </tr>\n",
              "  </thead>\n",
              "  <tbody>\n",
              "    <tr>\n",
              "      <th>0</th>\n",
              "      <td>BMW7812</td>\n",
              "      <td>67</td>\n",
              "      <td>Male</td>\n",
              "      <td>208</td>\n",
              "      <td>72</td>\n",
              "      <td>0</td>\n",
              "      <td>0</td>\n",
              "      <td>1</td>\n",
              "      <td>0</td>\n",
              "      <td>0</td>\n",
              "      <td>...</td>\n",
              "      <td>31.251233</td>\n",
              "      <td>286</td>\n",
              "      <td>0</td>\n",
              "      <td>6</td>\n",
              "      <td>Argentina</td>\n",
              "      <td>South America</td>\n",
              "      <td>Southern Hemisphere</td>\n",
              "      <td>0</td>\n",
              "      <td>158</td>\n",
              "      <td>88</td>\n",
              "    </tr>\n",
              "    <tr>\n",
              "      <th>1</th>\n",
              "      <td>CZE1114</td>\n",
              "      <td>21</td>\n",
              "      <td>Male</td>\n",
              "      <td>389</td>\n",
              "      <td>98</td>\n",
              "      <td>1</td>\n",
              "      <td>1</td>\n",
              "      <td>1</td>\n",
              "      <td>1</td>\n",
              "      <td>1</td>\n",
              "      <td>...</td>\n",
              "      <td>27.194973</td>\n",
              "      <td>235</td>\n",
              "      <td>1</td>\n",
              "      <td>7</td>\n",
              "      <td>Canada</td>\n",
              "      <td>North America</td>\n",
              "      <td>Northern Hemisphere</td>\n",
              "      <td>0</td>\n",
              "      <td>165</td>\n",
              "      <td>93</td>\n",
              "    </tr>\n",
              "    <tr>\n",
              "      <th>2</th>\n",
              "      <td>BNI9906</td>\n",
              "      <td>21</td>\n",
              "      <td>Female</td>\n",
              "      <td>324</td>\n",
              "      <td>72</td>\n",
              "      <td>1</td>\n",
              "      <td>0</td>\n",
              "      <td>0</td>\n",
              "      <td>0</td>\n",
              "      <td>0</td>\n",
              "      <td>...</td>\n",
              "      <td>28.176571</td>\n",
              "      <td>587</td>\n",
              "      <td>4</td>\n",
              "      <td>4</td>\n",
              "      <td>France</td>\n",
              "      <td>Europe</td>\n",
              "      <td>Northern Hemisphere</td>\n",
              "      <td>0</td>\n",
              "      <td>174</td>\n",
              "      <td>99</td>\n",
              "    </tr>\n",
              "    <tr>\n",
              "      <th>3</th>\n",
              "      <td>JLN3497</td>\n",
              "      <td>84</td>\n",
              "      <td>Male</td>\n",
              "      <td>383</td>\n",
              "      <td>73</td>\n",
              "      <td>1</td>\n",
              "      <td>1</td>\n",
              "      <td>1</td>\n",
              "      <td>0</td>\n",
              "      <td>1</td>\n",
              "      <td>...</td>\n",
              "      <td>36.464704</td>\n",
              "      <td>378</td>\n",
              "      <td>3</td>\n",
              "      <td>4</td>\n",
              "      <td>Canada</td>\n",
              "      <td>North America</td>\n",
              "      <td>Northern Hemisphere</td>\n",
              "      <td>0</td>\n",
              "      <td>163</td>\n",
              "      <td>100</td>\n",
              "    </tr>\n",
              "    <tr>\n",
              "      <th>4</th>\n",
              "      <td>GFO8847</td>\n",
              "      <td>66</td>\n",
              "      <td>Male</td>\n",
              "      <td>318</td>\n",
              "      <td>93</td>\n",
              "      <td>1</td>\n",
              "      <td>1</td>\n",
              "      <td>1</td>\n",
              "      <td>1</td>\n",
              "      <td>0</td>\n",
              "      <td>...</td>\n",
              "      <td>21.809144</td>\n",
              "      <td>231</td>\n",
              "      <td>1</td>\n",
              "      <td>5</td>\n",
              "      <td>Thailand</td>\n",
              "      <td>Asia</td>\n",
              "      <td>Northern Hemisphere</td>\n",
              "      <td>0</td>\n",
              "      <td>91</td>\n",
              "      <td>88</td>\n",
              "    </tr>\n",
              "  </tbody>\n",
              "</table>\n",
              "<p>5 rows × 27 columns</p>\n",
              "</div>\n",
              "    <div class=\"colab-df-buttons\">\n",
              "\n",
              "  <div class=\"colab-df-container\">\n",
              "    <button class=\"colab-df-convert\" onclick=\"convertToInteractive('df-f5890b44-875d-4929-a3a8-d5e6af882dd6')\"\n",
              "            title=\"Convert this dataframe to an interactive table.\"\n",
              "            style=\"display:none;\">\n",
              "\n",
              "  <svg xmlns=\"http://www.w3.org/2000/svg\" height=\"24px\" viewBox=\"0 -960 960 960\">\n",
              "    <path d=\"M120-120v-720h720v720H120Zm60-500h600v-160H180v160Zm220 220h160v-160H400v160Zm0 220h160v-160H400v160ZM180-400h160v-160H180v160Zm440 0h160v-160H620v160ZM180-180h160v-160H180v160Zm440 0h160v-160H620v160Z\"/>\n",
              "  </svg>\n",
              "    </button>\n",
              "\n",
              "  <style>\n",
              "    .colab-df-container {\n",
              "      display:flex;\n",
              "      gap: 12px;\n",
              "    }\n",
              "\n",
              "    .colab-df-convert {\n",
              "      background-color: #E8F0FE;\n",
              "      border: none;\n",
              "      border-radius: 50%;\n",
              "      cursor: pointer;\n",
              "      display: none;\n",
              "      fill: #1967D2;\n",
              "      height: 32px;\n",
              "      padding: 0 0 0 0;\n",
              "      width: 32px;\n",
              "    }\n",
              "\n",
              "    .colab-df-convert:hover {\n",
              "      background-color: #E2EBFA;\n",
              "      box-shadow: 0px 1px 2px rgba(60, 64, 67, 0.3), 0px 1px 3px 1px rgba(60, 64, 67, 0.15);\n",
              "      fill: #174EA6;\n",
              "    }\n",
              "\n",
              "    .colab-df-buttons div {\n",
              "      margin-bottom: 4px;\n",
              "    }\n",
              "\n",
              "    [theme=dark] .colab-df-convert {\n",
              "      background-color: #3B4455;\n",
              "      fill: #D2E3FC;\n",
              "    }\n",
              "\n",
              "    [theme=dark] .colab-df-convert:hover {\n",
              "      background-color: #434B5C;\n",
              "      box-shadow: 0px 1px 3px 1px rgba(0, 0, 0, 0.15);\n",
              "      filter: drop-shadow(0px 1px 2px rgba(0, 0, 0, 0.3));\n",
              "      fill: #FFFFFF;\n",
              "    }\n",
              "  </style>\n",
              "\n",
              "    <script>\n",
              "      const buttonEl =\n",
              "        document.querySelector('#df-f5890b44-875d-4929-a3a8-d5e6af882dd6 button.colab-df-convert');\n",
              "      buttonEl.style.display =\n",
              "        google.colab.kernel.accessAllowed ? 'block' : 'none';\n",
              "\n",
              "      async function convertToInteractive(key) {\n",
              "        const element = document.querySelector('#df-f5890b44-875d-4929-a3a8-d5e6af882dd6');\n",
              "        const dataTable =\n",
              "          await google.colab.kernel.invokeFunction('convertToInteractive',\n",
              "                                                    [key], {});\n",
              "        if (!dataTable) return;\n",
              "\n",
              "        const docLinkHtml = 'Like what you see? Visit the ' +\n",
              "          '<a target=\"_blank\" href=https://colab.research.google.com/notebooks/data_table.ipynb>data table notebook</a>'\n",
              "          + ' to learn more about interactive tables.';\n",
              "        element.innerHTML = '';\n",
              "        dataTable['output_type'] = 'display_data';\n",
              "        await google.colab.output.renderOutput(dataTable, element);\n",
              "        const docLink = document.createElement('div');\n",
              "        docLink.innerHTML = docLinkHtml;\n",
              "        element.appendChild(docLink);\n",
              "      }\n",
              "    </script>\n",
              "  </div>\n",
              "\n",
              "\n",
              "<div id=\"df-3cdd6521-1fc8-47bb-b3fc-20ceb2281e7d\">\n",
              "  <button class=\"colab-df-quickchart\" onclick=\"quickchart('df-3cdd6521-1fc8-47bb-b3fc-20ceb2281e7d')\"\n",
              "            title=\"Suggest charts\"\n",
              "            style=\"display:none;\">\n",
              "\n",
              "<svg xmlns=\"http://www.w3.org/2000/svg\" height=\"24px\"viewBox=\"0 0 24 24\"\n",
              "     width=\"24px\">\n",
              "    <g>\n",
              "        <path d=\"M19 3H5c-1.1 0-2 .9-2 2v14c0 1.1.9 2 2 2h14c1.1 0 2-.9 2-2V5c0-1.1-.9-2-2-2zM9 17H7v-7h2v7zm4 0h-2V7h2v10zm4 0h-2v-4h2v4z\"/>\n",
              "    </g>\n",
              "</svg>\n",
              "  </button>\n",
              "\n",
              "<style>\n",
              "  .colab-df-quickchart {\n",
              "      --bg-color: #E8F0FE;\n",
              "      --fill-color: #1967D2;\n",
              "      --hover-bg-color: #E2EBFA;\n",
              "      --hover-fill-color: #174EA6;\n",
              "      --disabled-fill-color: #AAA;\n",
              "      --disabled-bg-color: #DDD;\n",
              "  }\n",
              "\n",
              "  [theme=dark] .colab-df-quickchart {\n",
              "      --bg-color: #3B4455;\n",
              "      --fill-color: #D2E3FC;\n",
              "      --hover-bg-color: #434B5C;\n",
              "      --hover-fill-color: #FFFFFF;\n",
              "      --disabled-bg-color: #3B4455;\n",
              "      --disabled-fill-color: #666;\n",
              "  }\n",
              "\n",
              "  .colab-df-quickchart {\n",
              "    background-color: var(--bg-color);\n",
              "    border: none;\n",
              "    border-radius: 50%;\n",
              "    cursor: pointer;\n",
              "    display: none;\n",
              "    fill: var(--fill-color);\n",
              "    height: 32px;\n",
              "    padding: 0;\n",
              "    width: 32px;\n",
              "  }\n",
              "\n",
              "  .colab-df-quickchart:hover {\n",
              "    background-color: var(--hover-bg-color);\n",
              "    box-shadow: 0 1px 2px rgba(60, 64, 67, 0.3), 0 1px 3px 1px rgba(60, 64, 67, 0.15);\n",
              "    fill: var(--button-hover-fill-color);\n",
              "  }\n",
              "\n",
              "  .colab-df-quickchart-complete:disabled,\n",
              "  .colab-df-quickchart-complete:disabled:hover {\n",
              "    background-color: var(--disabled-bg-color);\n",
              "    fill: var(--disabled-fill-color);\n",
              "    box-shadow: none;\n",
              "  }\n",
              "\n",
              "  .colab-df-spinner {\n",
              "    border: 2px solid var(--fill-color);\n",
              "    border-color: transparent;\n",
              "    border-bottom-color: var(--fill-color);\n",
              "    animation:\n",
              "      spin 1s steps(1) infinite;\n",
              "  }\n",
              "\n",
              "  @keyframes spin {\n",
              "    0% {\n",
              "      border-color: transparent;\n",
              "      border-bottom-color: var(--fill-color);\n",
              "      border-left-color: var(--fill-color);\n",
              "    }\n",
              "    20% {\n",
              "      border-color: transparent;\n",
              "      border-left-color: var(--fill-color);\n",
              "      border-top-color: var(--fill-color);\n",
              "    }\n",
              "    30% {\n",
              "      border-color: transparent;\n",
              "      border-left-color: var(--fill-color);\n",
              "      border-top-color: var(--fill-color);\n",
              "      border-right-color: var(--fill-color);\n",
              "    }\n",
              "    40% {\n",
              "      border-color: transparent;\n",
              "      border-right-color: var(--fill-color);\n",
              "      border-top-color: var(--fill-color);\n",
              "    }\n",
              "    60% {\n",
              "      border-color: transparent;\n",
              "      border-right-color: var(--fill-color);\n",
              "    }\n",
              "    80% {\n",
              "      border-color: transparent;\n",
              "      border-right-color: var(--fill-color);\n",
              "      border-bottom-color: var(--fill-color);\n",
              "    }\n",
              "    90% {\n",
              "      border-color: transparent;\n",
              "      border-bottom-color: var(--fill-color);\n",
              "    }\n",
              "  }\n",
              "</style>\n",
              "\n",
              "  <script>\n",
              "    async function quickchart(key) {\n",
              "      const quickchartButtonEl =\n",
              "        document.querySelector('#' + key + ' button');\n",
              "      quickchartButtonEl.disabled = true;  // To prevent multiple clicks.\n",
              "      quickchartButtonEl.classList.add('colab-df-spinner');\n",
              "      try {\n",
              "        const charts = await google.colab.kernel.invokeFunction(\n",
              "            'suggestCharts', [key], {});\n",
              "      } catch (error) {\n",
              "        console.error('Error during call to suggestCharts:', error);\n",
              "      }\n",
              "      quickchartButtonEl.classList.remove('colab-df-spinner');\n",
              "      quickchartButtonEl.classList.add('colab-df-quickchart-complete');\n",
              "    }\n",
              "    (() => {\n",
              "      let quickchartButtonEl =\n",
              "        document.querySelector('#df-3cdd6521-1fc8-47bb-b3fc-20ceb2281e7d button');\n",
              "      quickchartButtonEl.style.display =\n",
              "        google.colab.kernel.accessAllowed ? 'block' : 'none';\n",
              "    })();\n",
              "  </script>\n",
              "</div>\n",
              "\n",
              "    </div>\n",
              "  </div>\n"
            ]
          },
          "metadata": {},
          "execution_count": 14
        }
      ]
    },
    {
      "cell_type": "markdown",
      "id": "36d371ea",
      "metadata": {
        "papermill": {
          "duration": 0.031815,
          "end_time": "2023-12-25T07:45:46.422007",
          "exception": false,
          "start_time": "2023-12-25T07:45:46.390192",
          "status": "completed"
        },
        "tags": [],
        "id": "36d371ea"
      },
      "source": [
        "<h2>Encoding</h2>"
      ]
    },
    {
      "cell_type": "code",
      "execution_count": 15,
      "id": "afc1e419",
      "metadata": {
        "execution": {
          "iopub.execute_input": "2023-12-25T07:45:46.490255Z",
          "iopub.status.busy": "2023-12-25T07:45:46.489808Z",
          "iopub.status.idle": "2023-12-25T07:45:46.499263Z",
          "shell.execute_reply": "2023-12-25T07:45:46.498144Z"
        },
        "papermill": {
          "duration": 0.046999,
          "end_time": "2023-12-25T07:45:46.502121",
          "exception": false,
          "start_time": "2023-12-25T07:45:46.455122",
          "status": "completed"
        },
        "tags": [],
        "colab": {
          "base_uri": "https://localhost:8080/"
        },
        "id": "afc1e419",
        "outputId": "d1e9a444-2564-45e1-958e-daca2d25ae1c"
      },
      "outputs": [
        {
          "output_type": "execute_result",
          "data": {
            "text/plain": [
              "Patient ID                          object\n",
              "Age                                  int64\n",
              "Sex                                 object\n",
              "Cholesterol                          int64\n",
              "Heart Rate                           int64\n",
              "Diabetes                             int64\n",
              "Family History                       int64\n",
              "Smoking                              int64\n",
              "Obesity                              int64\n",
              "Alcohol Consumption                  int64\n",
              "Exercise Hours Per Week            float64\n",
              "Diet                                object\n",
              "Previous Heart Problems              int64\n",
              "Medication Use                       int64\n",
              "Stress Level                         int64\n",
              "Sedentary Hours Per Day            float64\n",
              "Income                               int64\n",
              "BMI                                float64\n",
              "Triglycerides                        int64\n",
              "Physical Activity Days Per Week      int64\n",
              "Sleep Hours Per Day                  int64\n",
              "Country                             object\n",
              "Continent                           object\n",
              "Hemisphere                          object\n",
              "Heart Attack Risk                    int64\n",
              "BP_Systolic                          int64\n",
              "BP_Diastolic                         int64\n",
              "dtype: object"
            ]
          },
          "metadata": {},
          "execution_count": 15
        }
      ],
      "source": [
        "df.dtypes"
      ]
    },
    {
      "cell_type": "code",
      "execution_count": 16,
      "id": "07fc9b41",
      "metadata": {
        "execution": {
          "iopub.execute_input": "2023-12-25T07:45:46.645901Z",
          "iopub.status.busy": "2023-12-25T07:45:46.645073Z",
          "iopub.status.idle": "2023-12-25T07:45:46.820968Z",
          "shell.execute_reply": "2023-12-25T07:45:46.819788Z"
        },
        "papermill": {
          "duration": 0.213128,
          "end_time": "2023-12-25T07:45:46.823973",
          "exception": false,
          "start_time": "2023-12-25T07:45:46.610845",
          "status": "completed"
        },
        "tags": [],
        "id": "07fc9b41"
      },
      "outputs": [],
      "source": [
        "from sklearn.preprocessing import LabelEncoder"
      ]
    },
    {
      "cell_type": "code",
      "execution_count": 17,
      "id": "8a68d65a",
      "metadata": {
        "execution": {
          "iopub.execute_input": "2023-12-25T07:45:46.891747Z",
          "iopub.status.busy": "2023-12-25T07:45:46.891336Z",
          "iopub.status.idle": "2023-12-25T07:45:46.896508Z",
          "shell.execute_reply": "2023-12-25T07:45:46.895331Z"
        },
        "papermill": {
          "duration": 0.041515,
          "end_time": "2023-12-25T07:45:46.899102",
          "exception": false,
          "start_time": "2023-12-25T07:45:46.857587",
          "status": "completed"
        },
        "tags": [],
        "id": "8a68d65a"
      },
      "outputs": [],
      "source": [
        "encoder = LabelEncoder()"
      ]
    },
    {
      "cell_type": "code",
      "execution_count": 18,
      "id": "04d951b4",
      "metadata": {
        "execution": {
          "iopub.execute_input": "2023-12-25T07:45:46.970106Z",
          "iopub.status.busy": "2023-12-25T07:45:46.969233Z",
          "iopub.status.idle": "2023-12-25T07:45:47.029499Z",
          "shell.execute_reply": "2023-12-25T07:45:47.028110Z"
        },
        "papermill": {
          "duration": 0.100984,
          "end_time": "2023-12-25T07:45:47.032616",
          "exception": false,
          "start_time": "2023-12-25T07:45:46.931632",
          "status": "completed"
        },
        "tags": [],
        "id": "04d951b4"
      },
      "outputs": [],
      "source": [
        "for col_name in df.columns:\n",
        "\n",
        "    if df[col_name].dtype == \"object\":\n",
        "        df[col_name] = encoder.fit_transform(df[[col_name]])"
      ]
    },
    {
      "cell_type": "code",
      "execution_count": 19,
      "id": "95530731",
      "metadata": {
        "execution": {
          "iopub.execute_input": "2023-12-25T07:45:47.101481Z",
          "iopub.status.busy": "2023-12-25T07:45:47.100145Z",
          "iopub.status.idle": "2023-12-25T07:45:47.109371Z",
          "shell.execute_reply": "2023-12-25T07:45:47.108456Z"
        },
        "papermill": {
          "duration": 0.045763,
          "end_time": "2023-12-25T07:45:47.111711",
          "exception": false,
          "start_time": "2023-12-25T07:45:47.065948",
          "status": "completed"
        },
        "tags": [],
        "colab": {
          "base_uri": "https://localhost:8080/"
        },
        "id": "95530731",
        "outputId": "03333cdd-a0aa-4ecc-f213-5a8a0a7fdc2d"
      },
      "outputs": [
        {
          "output_type": "execute_result",
          "data": {
            "text/plain": [
              "Patient ID                           int64\n",
              "Age                                  int64\n",
              "Sex                                  int64\n",
              "Cholesterol                          int64\n",
              "Heart Rate                           int64\n",
              "Diabetes                             int64\n",
              "Family History                       int64\n",
              "Smoking                              int64\n",
              "Obesity                              int64\n",
              "Alcohol Consumption                  int64\n",
              "Exercise Hours Per Week            float64\n",
              "Diet                                 int64\n",
              "Previous Heart Problems              int64\n",
              "Medication Use                       int64\n",
              "Stress Level                         int64\n",
              "Sedentary Hours Per Day            float64\n",
              "Income                               int64\n",
              "BMI                                float64\n",
              "Triglycerides                        int64\n",
              "Physical Activity Days Per Week      int64\n",
              "Sleep Hours Per Day                  int64\n",
              "Country                              int64\n",
              "Continent                            int64\n",
              "Hemisphere                           int64\n",
              "Heart Attack Risk                    int64\n",
              "BP_Systolic                          int64\n",
              "BP_Diastolic                         int64\n",
              "dtype: object"
            ]
          },
          "metadata": {},
          "execution_count": 19
        }
      ],
      "source": [
        "df.dtypes"
      ]
    },
    {
      "cell_type": "code",
      "source": [
        "df= df.drop(['Patient ID' , 'Country' , 'Continent' , 'Hemisphere' , 'Income' , 'Family History'],axis=True)\n",
        "df.head()"
      ],
      "metadata": {
        "colab": {
          "base_uri": "https://localhost:8080/",
          "height": 307
        },
        "id": "oItByJorWl0q",
        "outputId": "d7013031-8bcd-498d-fbb6-d52e3b0aaa81"
      },
      "id": "oItByJorWl0q",
      "execution_count": 20,
      "outputs": [
        {
          "output_type": "execute_result",
          "data": {
            "text/plain": [
              "   Age  Sex  Cholesterol  Heart Rate  Diabetes  Smoking  Obesity  \\\n",
              "0   67    1          208          72         0        1        0   \n",
              "1   21    1          389          98         1        1        1   \n",
              "2   21    0          324          72         1        0        0   \n",
              "3   84    1          383          73         1        1        0   \n",
              "4   66    1          318          93         1        1        1   \n",
              "\n",
              "   Alcohol Consumption  Exercise Hours Per Week  Diet  ...  Medication Use  \\\n",
              "0                    0                 4.168189     0  ...               0   \n",
              "1                    1                 1.813242     2  ...               0   \n",
              "2                    0                 2.078353     1  ...               1   \n",
              "3                    1                 9.828130     0  ...               0   \n",
              "4                    0                 5.804299     2  ...               0   \n",
              "\n",
              "   Stress Level  Sedentary Hours Per Day        BMI  Triglycerides  \\\n",
              "0             9                 6.615001  31.251233            286   \n",
              "1             1                 4.963459  27.194973            235   \n",
              "2             9                 9.463426  28.176571            587   \n",
              "3             9                 7.648981  36.464704            378   \n",
              "4             6                 1.514821  21.809144            231   \n",
              "\n",
              "   Physical Activity Days Per Week  Sleep Hours Per Day  Heart Attack Risk  \\\n",
              "0                                0                    6                  0   \n",
              "1                                1                    7                  0   \n",
              "2                                4                    4                  0   \n",
              "3                                3                    4                  0   \n",
              "4                                1                    5                  0   \n",
              "\n",
              "   BP_Systolic  BP_Diastolic  \n",
              "0          158            88  \n",
              "1          165            93  \n",
              "2          174            99  \n",
              "3          163           100  \n",
              "4           91            88  \n",
              "\n",
              "[5 rows x 21 columns]"
            ],
            "text/html": [
              "\n",
              "  <div id=\"df-95497fc9-a52e-46d3-b0db-ac3fd13cc997\" class=\"colab-df-container\">\n",
              "    <div>\n",
              "<style scoped>\n",
              "    .dataframe tbody tr th:only-of-type {\n",
              "        vertical-align: middle;\n",
              "    }\n",
              "\n",
              "    .dataframe tbody tr th {\n",
              "        vertical-align: top;\n",
              "    }\n",
              "\n",
              "    .dataframe thead th {\n",
              "        text-align: right;\n",
              "    }\n",
              "</style>\n",
              "<table border=\"1\" class=\"dataframe\">\n",
              "  <thead>\n",
              "    <tr style=\"text-align: right;\">\n",
              "      <th></th>\n",
              "      <th>Age</th>\n",
              "      <th>Sex</th>\n",
              "      <th>Cholesterol</th>\n",
              "      <th>Heart Rate</th>\n",
              "      <th>Diabetes</th>\n",
              "      <th>Smoking</th>\n",
              "      <th>Obesity</th>\n",
              "      <th>Alcohol Consumption</th>\n",
              "      <th>Exercise Hours Per Week</th>\n",
              "      <th>Diet</th>\n",
              "      <th>...</th>\n",
              "      <th>Medication Use</th>\n",
              "      <th>Stress Level</th>\n",
              "      <th>Sedentary Hours Per Day</th>\n",
              "      <th>BMI</th>\n",
              "      <th>Triglycerides</th>\n",
              "      <th>Physical Activity Days Per Week</th>\n",
              "      <th>Sleep Hours Per Day</th>\n",
              "      <th>Heart Attack Risk</th>\n",
              "      <th>BP_Systolic</th>\n",
              "      <th>BP_Diastolic</th>\n",
              "    </tr>\n",
              "  </thead>\n",
              "  <tbody>\n",
              "    <tr>\n",
              "      <th>0</th>\n",
              "      <td>67</td>\n",
              "      <td>1</td>\n",
              "      <td>208</td>\n",
              "      <td>72</td>\n",
              "      <td>0</td>\n",
              "      <td>1</td>\n",
              "      <td>0</td>\n",
              "      <td>0</td>\n",
              "      <td>4.168189</td>\n",
              "      <td>0</td>\n",
              "      <td>...</td>\n",
              "      <td>0</td>\n",
              "      <td>9</td>\n",
              "      <td>6.615001</td>\n",
              "      <td>31.251233</td>\n",
              "      <td>286</td>\n",
              "      <td>0</td>\n",
              "      <td>6</td>\n",
              "      <td>0</td>\n",
              "      <td>158</td>\n",
              "      <td>88</td>\n",
              "    </tr>\n",
              "    <tr>\n",
              "      <th>1</th>\n",
              "      <td>21</td>\n",
              "      <td>1</td>\n",
              "      <td>389</td>\n",
              "      <td>98</td>\n",
              "      <td>1</td>\n",
              "      <td>1</td>\n",
              "      <td>1</td>\n",
              "      <td>1</td>\n",
              "      <td>1.813242</td>\n",
              "      <td>2</td>\n",
              "      <td>...</td>\n",
              "      <td>0</td>\n",
              "      <td>1</td>\n",
              "      <td>4.963459</td>\n",
              "      <td>27.194973</td>\n",
              "      <td>235</td>\n",
              "      <td>1</td>\n",
              "      <td>7</td>\n",
              "      <td>0</td>\n",
              "      <td>165</td>\n",
              "      <td>93</td>\n",
              "    </tr>\n",
              "    <tr>\n",
              "      <th>2</th>\n",
              "      <td>21</td>\n",
              "      <td>0</td>\n",
              "      <td>324</td>\n",
              "      <td>72</td>\n",
              "      <td>1</td>\n",
              "      <td>0</td>\n",
              "      <td>0</td>\n",
              "      <td>0</td>\n",
              "      <td>2.078353</td>\n",
              "      <td>1</td>\n",
              "      <td>...</td>\n",
              "      <td>1</td>\n",
              "      <td>9</td>\n",
              "      <td>9.463426</td>\n",
              "      <td>28.176571</td>\n",
              "      <td>587</td>\n",
              "      <td>4</td>\n",
              "      <td>4</td>\n",
              "      <td>0</td>\n",
              "      <td>174</td>\n",
              "      <td>99</td>\n",
              "    </tr>\n",
              "    <tr>\n",
              "      <th>3</th>\n",
              "      <td>84</td>\n",
              "      <td>1</td>\n",
              "      <td>383</td>\n",
              "      <td>73</td>\n",
              "      <td>1</td>\n",
              "      <td>1</td>\n",
              "      <td>0</td>\n",
              "      <td>1</td>\n",
              "      <td>9.828130</td>\n",
              "      <td>0</td>\n",
              "      <td>...</td>\n",
              "      <td>0</td>\n",
              "      <td>9</td>\n",
              "      <td>7.648981</td>\n",
              "      <td>36.464704</td>\n",
              "      <td>378</td>\n",
              "      <td>3</td>\n",
              "      <td>4</td>\n",
              "      <td>0</td>\n",
              "      <td>163</td>\n",
              "      <td>100</td>\n",
              "    </tr>\n",
              "    <tr>\n",
              "      <th>4</th>\n",
              "      <td>66</td>\n",
              "      <td>1</td>\n",
              "      <td>318</td>\n",
              "      <td>93</td>\n",
              "      <td>1</td>\n",
              "      <td>1</td>\n",
              "      <td>1</td>\n",
              "      <td>0</td>\n",
              "      <td>5.804299</td>\n",
              "      <td>2</td>\n",
              "      <td>...</td>\n",
              "      <td>0</td>\n",
              "      <td>6</td>\n",
              "      <td>1.514821</td>\n",
              "      <td>21.809144</td>\n",
              "      <td>231</td>\n",
              "      <td>1</td>\n",
              "      <td>5</td>\n",
              "      <td>0</td>\n",
              "      <td>91</td>\n",
              "      <td>88</td>\n",
              "    </tr>\n",
              "  </tbody>\n",
              "</table>\n",
              "<p>5 rows × 21 columns</p>\n",
              "</div>\n",
              "    <div class=\"colab-df-buttons\">\n",
              "\n",
              "  <div class=\"colab-df-container\">\n",
              "    <button class=\"colab-df-convert\" onclick=\"convertToInteractive('df-95497fc9-a52e-46d3-b0db-ac3fd13cc997')\"\n",
              "            title=\"Convert this dataframe to an interactive table.\"\n",
              "            style=\"display:none;\">\n",
              "\n",
              "  <svg xmlns=\"http://www.w3.org/2000/svg\" height=\"24px\" viewBox=\"0 -960 960 960\">\n",
              "    <path d=\"M120-120v-720h720v720H120Zm60-500h600v-160H180v160Zm220 220h160v-160H400v160Zm0 220h160v-160H400v160ZM180-400h160v-160H180v160Zm440 0h160v-160H620v160ZM180-180h160v-160H180v160Zm440 0h160v-160H620v160Z\"/>\n",
              "  </svg>\n",
              "    </button>\n",
              "\n",
              "  <style>\n",
              "    .colab-df-container {\n",
              "      display:flex;\n",
              "      gap: 12px;\n",
              "    }\n",
              "\n",
              "    .colab-df-convert {\n",
              "      background-color: #E8F0FE;\n",
              "      border: none;\n",
              "      border-radius: 50%;\n",
              "      cursor: pointer;\n",
              "      display: none;\n",
              "      fill: #1967D2;\n",
              "      height: 32px;\n",
              "      padding: 0 0 0 0;\n",
              "      width: 32px;\n",
              "    }\n",
              "\n",
              "    .colab-df-convert:hover {\n",
              "      background-color: #E2EBFA;\n",
              "      box-shadow: 0px 1px 2px rgba(60, 64, 67, 0.3), 0px 1px 3px 1px rgba(60, 64, 67, 0.15);\n",
              "      fill: #174EA6;\n",
              "    }\n",
              "\n",
              "    .colab-df-buttons div {\n",
              "      margin-bottom: 4px;\n",
              "    }\n",
              "\n",
              "    [theme=dark] .colab-df-convert {\n",
              "      background-color: #3B4455;\n",
              "      fill: #D2E3FC;\n",
              "    }\n",
              "\n",
              "    [theme=dark] .colab-df-convert:hover {\n",
              "      background-color: #434B5C;\n",
              "      box-shadow: 0px 1px 3px 1px rgba(0, 0, 0, 0.15);\n",
              "      filter: drop-shadow(0px 1px 2px rgba(0, 0, 0, 0.3));\n",
              "      fill: #FFFFFF;\n",
              "    }\n",
              "  </style>\n",
              "\n",
              "    <script>\n",
              "      const buttonEl =\n",
              "        document.querySelector('#df-95497fc9-a52e-46d3-b0db-ac3fd13cc997 button.colab-df-convert');\n",
              "      buttonEl.style.display =\n",
              "        google.colab.kernel.accessAllowed ? 'block' : 'none';\n",
              "\n",
              "      async function convertToInteractive(key) {\n",
              "        const element = document.querySelector('#df-95497fc9-a52e-46d3-b0db-ac3fd13cc997');\n",
              "        const dataTable =\n",
              "          await google.colab.kernel.invokeFunction('convertToInteractive',\n",
              "                                                    [key], {});\n",
              "        if (!dataTable) return;\n",
              "\n",
              "        const docLinkHtml = 'Like what you see? Visit the ' +\n",
              "          '<a target=\"_blank\" href=https://colab.research.google.com/notebooks/data_table.ipynb>data table notebook</a>'\n",
              "          + ' to learn more about interactive tables.';\n",
              "        element.innerHTML = '';\n",
              "        dataTable['output_type'] = 'display_data';\n",
              "        await google.colab.output.renderOutput(dataTable, element);\n",
              "        const docLink = document.createElement('div');\n",
              "        docLink.innerHTML = docLinkHtml;\n",
              "        element.appendChild(docLink);\n",
              "      }\n",
              "    </script>\n",
              "  </div>\n",
              "\n",
              "\n",
              "<div id=\"df-2fff37d2-56f0-401e-bb15-6e589b33bcf4\">\n",
              "  <button class=\"colab-df-quickchart\" onclick=\"quickchart('df-2fff37d2-56f0-401e-bb15-6e589b33bcf4')\"\n",
              "            title=\"Suggest charts\"\n",
              "            style=\"display:none;\">\n",
              "\n",
              "<svg xmlns=\"http://www.w3.org/2000/svg\" height=\"24px\"viewBox=\"0 0 24 24\"\n",
              "     width=\"24px\">\n",
              "    <g>\n",
              "        <path d=\"M19 3H5c-1.1 0-2 .9-2 2v14c0 1.1.9 2 2 2h14c1.1 0 2-.9 2-2V5c0-1.1-.9-2-2-2zM9 17H7v-7h2v7zm4 0h-2V7h2v10zm4 0h-2v-4h2v4z\"/>\n",
              "    </g>\n",
              "</svg>\n",
              "  </button>\n",
              "\n",
              "<style>\n",
              "  .colab-df-quickchart {\n",
              "      --bg-color: #E8F0FE;\n",
              "      --fill-color: #1967D2;\n",
              "      --hover-bg-color: #E2EBFA;\n",
              "      --hover-fill-color: #174EA6;\n",
              "      --disabled-fill-color: #AAA;\n",
              "      --disabled-bg-color: #DDD;\n",
              "  }\n",
              "\n",
              "  [theme=dark] .colab-df-quickchart {\n",
              "      --bg-color: #3B4455;\n",
              "      --fill-color: #D2E3FC;\n",
              "      --hover-bg-color: #434B5C;\n",
              "      --hover-fill-color: #FFFFFF;\n",
              "      --disabled-bg-color: #3B4455;\n",
              "      --disabled-fill-color: #666;\n",
              "  }\n",
              "\n",
              "  .colab-df-quickchart {\n",
              "    background-color: var(--bg-color);\n",
              "    border: none;\n",
              "    border-radius: 50%;\n",
              "    cursor: pointer;\n",
              "    display: none;\n",
              "    fill: var(--fill-color);\n",
              "    height: 32px;\n",
              "    padding: 0;\n",
              "    width: 32px;\n",
              "  }\n",
              "\n",
              "  .colab-df-quickchart:hover {\n",
              "    background-color: var(--hover-bg-color);\n",
              "    box-shadow: 0 1px 2px rgba(60, 64, 67, 0.3), 0 1px 3px 1px rgba(60, 64, 67, 0.15);\n",
              "    fill: var(--button-hover-fill-color);\n",
              "  }\n",
              "\n",
              "  .colab-df-quickchart-complete:disabled,\n",
              "  .colab-df-quickchart-complete:disabled:hover {\n",
              "    background-color: var(--disabled-bg-color);\n",
              "    fill: var(--disabled-fill-color);\n",
              "    box-shadow: none;\n",
              "  }\n",
              "\n",
              "  .colab-df-spinner {\n",
              "    border: 2px solid var(--fill-color);\n",
              "    border-color: transparent;\n",
              "    border-bottom-color: var(--fill-color);\n",
              "    animation:\n",
              "      spin 1s steps(1) infinite;\n",
              "  }\n",
              "\n",
              "  @keyframes spin {\n",
              "    0% {\n",
              "      border-color: transparent;\n",
              "      border-bottom-color: var(--fill-color);\n",
              "      border-left-color: var(--fill-color);\n",
              "    }\n",
              "    20% {\n",
              "      border-color: transparent;\n",
              "      border-left-color: var(--fill-color);\n",
              "      border-top-color: var(--fill-color);\n",
              "    }\n",
              "    30% {\n",
              "      border-color: transparent;\n",
              "      border-left-color: var(--fill-color);\n",
              "      border-top-color: var(--fill-color);\n",
              "      border-right-color: var(--fill-color);\n",
              "    }\n",
              "    40% {\n",
              "      border-color: transparent;\n",
              "      border-right-color: var(--fill-color);\n",
              "      border-top-color: var(--fill-color);\n",
              "    }\n",
              "    60% {\n",
              "      border-color: transparent;\n",
              "      border-right-color: var(--fill-color);\n",
              "    }\n",
              "    80% {\n",
              "      border-color: transparent;\n",
              "      border-right-color: var(--fill-color);\n",
              "      border-bottom-color: var(--fill-color);\n",
              "    }\n",
              "    90% {\n",
              "      border-color: transparent;\n",
              "      border-bottom-color: var(--fill-color);\n",
              "    }\n",
              "  }\n",
              "</style>\n",
              "\n",
              "  <script>\n",
              "    async function quickchart(key) {\n",
              "      const quickchartButtonEl =\n",
              "        document.querySelector('#' + key + ' button');\n",
              "      quickchartButtonEl.disabled = true;  // To prevent multiple clicks.\n",
              "      quickchartButtonEl.classList.add('colab-df-spinner');\n",
              "      try {\n",
              "        const charts = await google.colab.kernel.invokeFunction(\n",
              "            'suggestCharts', [key], {});\n",
              "      } catch (error) {\n",
              "        console.error('Error during call to suggestCharts:', error);\n",
              "      }\n",
              "      quickchartButtonEl.classList.remove('colab-df-spinner');\n",
              "      quickchartButtonEl.classList.add('colab-df-quickchart-complete');\n",
              "    }\n",
              "    (() => {\n",
              "      let quickchartButtonEl =\n",
              "        document.querySelector('#df-2fff37d2-56f0-401e-bb15-6e589b33bcf4 button');\n",
              "      quickchartButtonEl.style.display =\n",
              "        google.colab.kernel.accessAllowed ? 'block' : 'none';\n",
              "    })();\n",
              "  </script>\n",
              "</div>\n",
              "\n",
              "    </div>\n",
              "  </div>\n"
            ]
          },
          "metadata": {},
          "execution_count": 20
        }
      ]
    },
    {
      "cell_type": "markdown",
      "id": "b66b3481",
      "metadata": {
        "papermill": {
          "duration": 0.033063,
          "end_time": "2023-12-25T07:45:47.177419",
          "exception": false,
          "start_time": "2023-12-25T07:45:47.144356",
          "status": "completed"
        },
        "tags": [],
        "id": "b66b3481"
      },
      "source": [
        "<h2>Correlation Matrix</h2>"
      ]
    },
    {
      "cell_type": "code",
      "execution_count": 21,
      "id": "96f95b79",
      "metadata": {
        "execution": {
          "iopub.execute_input": "2023-12-25T07:45:47.245157Z",
          "iopub.status.busy": "2023-12-25T07:45:47.244137Z",
          "iopub.status.idle": "2023-12-25T07:45:47.252059Z",
          "shell.execute_reply": "2023-12-25T07:45:47.250913Z"
        },
        "papermill": {
          "duration": 0.044576,
          "end_time": "2023-12-25T07:45:47.254631",
          "exception": false,
          "start_time": "2023-12-25T07:45:47.210055",
          "status": "completed"
        },
        "tags": [],
        "colab": {
          "base_uri": "https://localhost:8080/"
        },
        "id": "96f95b79",
        "outputId": "49b17fb3-9cc8-46d6-8429-9652c0317a0e"
      },
      "outputs": [
        {
          "output_type": "execute_result",
          "data": {
            "text/plain": [
              "(8763, 21)"
            ]
          },
          "metadata": {},
          "execution_count": 21
        }
      ],
      "source": [
        "df.shape"
      ]
    },
    {
      "cell_type": "code",
      "execution_count": 22,
      "id": "989ecaae",
      "metadata": {
        "execution": {
          "iopub.execute_input": "2023-12-25T07:45:47.322752Z",
          "iopub.status.busy": "2023-12-25T07:45:47.322350Z",
          "iopub.status.idle": "2023-12-25T07:45:50.016858Z",
          "shell.execute_reply": "2023-12-25T07:45:50.015665Z"
        },
        "papermill": {
          "duration": 2.735785,
          "end_time": "2023-12-25T07:45:50.023571",
          "exception": false,
          "start_time": "2023-12-25T07:45:47.287786",
          "status": "completed"
        },
        "tags": [],
        "colab": {
          "base_uri": "https://localhost:8080/",
          "height": 1000
        },
        "id": "989ecaae",
        "outputId": "e5c6bd17-a549-4bfd-a0f9-dd3d61772105"
      },
      "outputs": [
        {
          "output_type": "display_data",
          "data": {
            "text/plain": [
              "<Figure size 1500x1000 with 2 Axes>"
            ],
            "image/png": "[encoded data removed]"
          },
          "metadata": {}
        }
      ],
      "source": [
        "plt.figure(figsize=(15,10))\n",
        "plt.title(\"Correlation Matrix\", fontsize=20)\n",
        "sns.heatmap(df.corr(), annot=True, cmap=\"RdBu\", fmt=\".2f\")\n",
        "plt.show()"
      ]
    },
    {
      "cell_type": "markdown",
      "id": "34c26c2b",
      "metadata": {
        "papermill": {
          "duration": 0.040309,
          "end_time": "2023-12-25T07:45:50.104740",
          "exception": false,
          "start_time": "2023-12-25T07:45:50.064431",
          "status": "completed"
        },
        "tags": [],
        "id": "34c26c2b"
      },
      "source": [
        "<ul>\n",
        "<h5>Key Findings</h5>\n",
        "<li>Heart Attack risk has highest correlation with Diabetes, Cholestrol and Exercise Hours Per Weak</li>\n",
        "<li>Heart attack Risk is not much dependent on Sedentary Hours Per Day</li>\n",
        "<li>Alcohol Consumption has no stronger link with Heart Attack Risk</li>\n",
        "<li>Smoking is not a major cause of Heart Attack</li>\n",
        "</ul>"
      ]
    },
    {
      "cell_type": "code",
      "execution_count": 23,
      "id": "7eb9cd9a",
      "metadata": {
        "execution": {
          "iopub.execute_input": "2023-12-25T07:45:50.353915Z",
          "iopub.status.busy": "2023-12-25T07:45:50.353456Z",
          "iopub.status.idle": "2023-12-25T07:45:50.360522Z",
          "shell.execute_reply": "2023-12-25T07:45:50.359391Z"
        },
        "papermill": {
          "duration": 0.051712,
          "end_time": "2023-12-25T07:45:50.363451",
          "exception": false,
          "start_time": "2023-12-25T07:45:50.311739",
          "status": "completed"
        },
        "tags": [],
        "id": "7eb9cd9a"
      },
      "outputs": [],
      "source": [
        "X = df.drop(\"Heart Attack Risk\",axis = 1)\n",
        "y = df[\"Heart Attack Risk\"]"
      ]
    },
    {
      "cell_type": "code",
      "source": [
        "list(X)"
      ],
      "metadata": {
        "colab": {
          "base_uri": "https://localhost:8080/"
        },
        "id": "lKgfrEZMeK3N",
        "outputId": "f686ec09-33ce-40d2-df24-a7701002182e"
      },
      "id": "lKgfrEZMeK3N",
      "execution_count": 24,
      "outputs": [
        {
          "output_type": "execute_result",
          "data": {
            "text/plain": [
              "['Age',\n",
              " 'Sex',\n",
              " 'Cholesterol',\n",
              " 'Heart Rate',\n",
              " 'Diabetes',\n",
              " 'Smoking',\n",
              " 'Obesity',\n",
              " 'Alcohol Consumption',\n",
              " 'Exercise Hours Per Week',\n",
              " 'Diet',\n",
              " 'Previous Heart Problems',\n",
              " 'Medication Use',\n",
              " 'Stress Level',\n",
              " 'Sedentary Hours Per Day',\n",
              " 'BMI',\n",
              " 'Triglycerides',\n",
              " 'Physical Activity Days Per Week',\n",
              " 'Sleep Hours Per Day',\n",
              " 'BP_Systolic',\n",
              " 'BP_Diastolic']"
            ]
          },
          "metadata": {},
          "execution_count": 24
        }
      ]
    },
    {
      "cell_type": "code",
      "execution_count": 25,
      "id": "08035e1a",
      "metadata": {
        "execution": {
          "iopub.execute_input": "2023-12-25T07:45:50.740322Z",
          "iopub.status.busy": "2023-12-25T07:45:50.739894Z",
          "iopub.status.idle": "2023-12-25T07:45:50.752756Z",
          "shell.execute_reply": "2023-12-25T07:45:50.751921Z"
        },
        "papermill": {
          "duration": 0.055424,
          "end_time": "2023-12-25T07:45:50.755105",
          "exception": false,
          "start_time": "2023-12-25T07:45:50.699681",
          "status": "completed"
        },
        "tags": [],
        "id": "08035e1a"
      },
      "outputs": [],
      "source": [
        "from sklearn.model_selection import train_test_split\n",
        "X_train, X_test, y_train, y_test = train_test_split(X, y, test_size=0.30, random_state=42)"
      ]
    },
    {
      "cell_type": "markdown",
      "id": "245b389e",
      "metadata": {
        "papermill": {
          "duration": 0.038846,
          "end_time": "2023-12-25T07:45:50.911345",
          "exception": false,
          "start_time": "2023-12-25T07:45:50.872499",
          "status": "completed"
        },
        "tags": [],
        "id": "245b389e"
      },
      "source": [
        "<h2>Decision Tree Classifier(Before Scaling)</h2>"
      ]
    },
    {
      "cell_type": "code",
      "execution_count": 26,
      "id": "4bef7290",
      "metadata": {
        "execution": {
          "iopub.execute_input": "2023-12-25T07:45:50.992350Z",
          "iopub.status.busy": "2023-12-25T07:45:50.991914Z",
          "iopub.status.idle": "2023-12-25T07:45:51.193189Z",
          "shell.execute_reply": "2023-12-25T07:45:51.191939Z"
        },
        "papermill": {
          "duration": 0.245713,
          "end_time": "2023-12-25T07:45:51.196058",
          "exception": false,
          "start_time": "2023-12-25T07:45:50.950345",
          "status": "completed"
        },
        "tags": [],
        "colab": {
          "base_uri": "https://localhost:8080/",
          "height": 74
        },
        "id": "4bef7290",
        "outputId": "15cdd045-df95-46e5-d1e0-45659cb2e696"
      },
      "outputs": [
        {
          "output_type": "execute_result",
          "data": {
            "text/plain": [
              "DecisionTreeClassifier()"
            ],
            "text/html": [
              "<style>#sk-container-id-1 {color: black;background-color: white;}#sk-container-id-1 pre{padding: 0;}#sk-container-id-1 div.sk-toggleable {background-color: white;}#sk-container-id-1 label.sk-toggleable__label {cursor: pointer;display: block;width: 100%;margin-bottom: 0;padding: 0.3em;box-sizing: border-box;text-align: center;}#sk-container-id-1 label.sk-toggleable__label-arrow:before {content: \"▸\";float: left;margin-right: 0.25em;color: #696969;}#sk-container-id-1 label.sk-toggleable__label-arrow:hover:before {color: black;}#sk-container-id-1 div.sk-estimator:hover label.sk-toggleable__label-arrow:before {color: black;}#sk-container-id-1 div.sk-toggleable__content {max-height: 0;max-width: 0;overflow: hidden;text-align: left;background-color: #f0f8ff;}#sk-container-id-1 div.sk-toggleable__content pre {margin: 0.2em;color: black;border-radius: 0.25em;background-color: #f0f8ff;}#sk-container-id-1 input.sk-toggleable__control:checked~div.sk-toggleable__content {max-height: 200px;max-width: 100%;overflow: auto;}#sk-container-id-1 input.sk-toggleable__control:checked~label.sk-toggleable__label-arrow:before {content: \"▾\";}#sk-container-id-1 div.sk-estimator input.sk-toggleable__control:checked~label.sk-toggleable__label {background-color: #d4ebff;}#sk-container-id-1 div.sk-label input.sk-toggleable__control:checked~label.sk-toggleable__label {background-color: #d4ebff;}#sk-container-id-1 input.sk-hidden--visually {border: 0;clip: rect(1px 1px 1px 1px);clip: rect(1px, 1px, 1px, 1px);height: 1px;margin: -1px;overflow: hidden;padding: 0;position: absolute;width: 1px;}#sk-container-id-1 div.sk-estimator {font-family: monospace;background-color: #f0f8ff;border: 1px dotted black;border-radius: 0.25em;box-sizing: border-box;margin-bottom: 0.5em;}#sk-container-id-1 div.sk-estimator:hover {background-color: #d4ebff;}#sk-container-id-1 div.sk-parallel-item::after {content: \"\";width: 100%;border-bottom: 1px solid gray;flex-grow: 1;}#sk-container-id-1 div.sk-label:hover label.sk-toggleable__label {background-color: #d4ebff;}#sk-container-id-1 div.sk-serial::before {content: \"\";position: absolute;border-left: 1px solid gray;box-sizing: border-box;top: 0;bottom: 0;left: 50%;z-index: 0;}#sk-container-id-1 div.sk-serial {display: flex;flex-direction: column;align-items: center;background-color: white;padding-right: 0.2em;padding-left: 0.2em;position: relative;}#sk-container-id-1 div.sk-item {position: relative;z-index: 1;}#sk-container-id-1 div.sk-parallel {display: flex;align-items: stretch;justify-content: center;background-color: white;position: relative;}#sk-container-id-1 div.sk-item::before, #sk-container-id-1 div.sk-parallel-item::before {content: \"\";position: absolute;border-left: 1px solid gray;box-sizing: border-box;top: 0;bottom: 0;left: 50%;z-index: -1;}#sk-container-id-1 div.sk-parallel-item {display: flex;flex-direction: column;z-index: 1;position: relative;background-color: white;}#sk-container-id-1 div.sk-parallel-item:first-child::after {align-self: flex-end;width: 50%;}#sk-container-id-1 div.sk-parallel-item:last-child::after {align-self: flex-start;width: 50%;}#sk-container-id-1 div.sk-parallel-item:only-child::after {width: 0;}#sk-container-id-1 div.sk-dashed-wrapped {border: 1px dashed gray;margin: 0 0.4em 0.5em 0.4em;box-sizing: border-box;padding-bottom: 0.4em;background-color: white;}#sk-container-id-1 div.sk-label label {font-family: monospace;font-weight: bold;display: inline-block;line-height: 1.2em;}#sk-container-id-1 div.sk-label-container {text-align: center;}#sk-container-id-1 div.sk-container {/* jupyter's `normalize.less` sets `[hidden] { display: none; }` but bootstrap.min.css set `[hidden] { display: none !important; }` so we also need the `!important` here to be able to override the default hidden behavior on the sphinx rendered scikit-learn.org. See: https://github.com/scikit-learn/scikit-learn/issues/21755 */display: inline-block !important;position: relative;}#sk-container-id-1 div.sk-text-repr-fallback {display: none;}</style><div id=\"sk-container-id-1\" class=\"sk-top-container\"><div class=\"sk-text-repr-fallback\"><pre>DecisionTreeClassifier()</pre><b>In a Jupyter environment, please rerun this cell to show the HTML representation or trust the notebook. <br />On GitHub, the HTML representation is unable to render, please try loading this page with nbviewer.org.</b></div><div class=\"sk-container\" hidden><div class=\"sk-item\"><div class=\"sk-estimator sk-toggleable\"><input class=\"sk-toggleable__control sk-hidden--visually\" id=\"sk-estimator-id-1\" type=\"checkbox\" checked><label for=\"sk-estimator-id-1\" class=\"sk-toggleable__label sk-toggleable__label-arrow\">DecisionTreeClassifier</label><div class=\"sk-toggleable__content\"><pre>DecisionTreeClassifier()</pre></div></div></div></div></div>"
            ]
          },
          "metadata": {},
          "execution_count": 26
        }
      ],
      "source": [
        "from sklearn.tree import DecisionTreeClassifier\n",
        "\n",
        "dtc_before_scaling = DecisionTreeClassifier()\n",
        "dtc_before_scaling.fit(X_train,y_train)"
      ]
    },
    {
      "cell_type": "code",
      "execution_count": 27,
      "id": "827a196c",
      "metadata": {
        "execution": {
          "iopub.execute_input": "2023-12-25T07:45:51.596415Z",
          "iopub.status.busy": "2023-12-25T07:45:51.595981Z",
          "iopub.status.idle": "2023-12-25T07:45:51.600964Z",
          "shell.execute_reply": "2023-12-25T07:45:51.600112Z"
        },
        "papermill": {
          "duration": 0.049062,
          "end_time": "2023-12-25T07:45:51.603430",
          "exception": false,
          "start_time": "2023-12-25T07:45:51.554368",
          "status": "completed"
        },
        "tags": [],
        "id": "827a196c"
      },
      "outputs": [],
      "source": [
        "from sklearn.metrics import accuracy_score"
      ]
    },
    {
      "cell_type": "code",
      "execution_count": 28,
      "id": "86d3168e",
      "metadata": {
        "execution": {
          "iopub.execute_input": "2023-12-25T07:45:51.686044Z",
          "iopub.status.busy": "2023-12-25T07:45:51.685201Z",
          "iopub.status.idle": "2023-12-25T07:45:51.694462Z",
          "shell.execute_reply": "2023-12-25T07:45:51.693461Z"
        },
        "papermill": {
          "duration": 0.054055,
          "end_time": "2023-12-25T07:45:51.697185",
          "exception": false,
          "start_time": "2023-12-25T07:45:51.643130",
          "status": "completed"
        },
        "tags": [],
        "id": "86d3168e"
      },
      "outputs": [],
      "source": [
        "y_predicted_train = dtc_before_scaling.predict(X_train)"
      ]
    },
    {
      "cell_type": "code",
      "execution_count": 29,
      "id": "53a12ea9",
      "metadata": {
        "execution": {
          "iopub.execute_input": "2023-12-25T07:45:51.779565Z",
          "iopub.status.busy": "2023-12-25T07:45:51.779145Z",
          "iopub.status.idle": "2023-12-25T07:45:51.785437Z",
          "shell.execute_reply": "2023-12-25T07:45:51.784591Z"
        },
        "papermill": {
          "duration": 0.050475,
          "end_time": "2023-12-25T07:45:51.787670",
          "exception": false,
          "start_time": "2023-12-25T07:45:51.737195",
          "status": "completed"
        },
        "tags": [],
        "id": "53a12ea9"
      },
      "outputs": [],
      "source": [
        "dtc_train_score_before_scaling = accuracy_score(y_train,y_predicted_train)"
      ]
    },
    {
      "cell_type": "code",
      "execution_count": 30,
      "id": "86da83ad",
      "metadata": {
        "execution": {
          "iopub.execute_input": "2023-12-25T07:45:51.869184Z",
          "iopub.status.busy": "2023-12-25T07:45:51.868455Z",
          "iopub.status.idle": "2023-12-25T07:45:51.874236Z",
          "shell.execute_reply": "2023-12-25T07:45:51.872754Z"
        },
        "papermill": {
          "duration": 0.04972,
          "end_time": "2023-12-25T07:45:51.876785",
          "exception": false,
          "start_time": "2023-12-25T07:45:51.827065",
          "status": "completed"
        },
        "tags": [],
        "colab": {
          "base_uri": "https://localhost:8080/"
        },
        "id": "86da83ad",
        "outputId": "6ce60e0d-37fe-4739-9a4b-65057f413743"
      },
      "outputs": [
        {
          "output_type": "stream",
          "name": "stdout",
          "text": [
            "Train Score: 1.0\n"
          ]
        }
      ],
      "source": [
        "print(\"Train Score:\",dtc_train_score_before_scaling)"
      ]
    },
    {
      "cell_type": "code",
      "execution_count": 31,
      "id": "a12ebe8a",
      "metadata": {
        "execution": {
          "iopub.execute_input": "2023-12-25T07:45:51.957994Z",
          "iopub.status.busy": "2023-12-25T07:45:51.957555Z",
          "iopub.status.idle": "2023-12-25T07:45:51.965553Z",
          "shell.execute_reply": "2023-12-25T07:45:51.964671Z"
        },
        "papermill": {
          "duration": 0.051553,
          "end_time": "2023-12-25T07:45:51.968043",
          "exception": false,
          "start_time": "2023-12-25T07:45:51.916490",
          "status": "completed"
        },
        "tags": [],
        "id": "a12ebe8a"
      },
      "outputs": [],
      "source": [
        "y_predicted_test =  dtc_before_scaling.predict(X_test)"
      ]
    },
    {
      "cell_type": "code",
      "execution_count": 32,
      "id": "6fc6c65f",
      "metadata": {
        "execution": {
          "iopub.execute_input": "2023-12-25T07:45:52.050279Z",
          "iopub.status.busy": "2023-12-25T07:45:52.049817Z",
          "iopub.status.idle": "2023-12-25T07:45:52.056067Z",
          "shell.execute_reply": "2023-12-25T07:45:52.054940Z"
        },
        "papermill": {
          "duration": 0.049978,
          "end_time": "2023-12-25T07:45:52.058377",
          "exception": false,
          "start_time": "2023-12-25T07:45:52.008399",
          "status": "completed"
        },
        "tags": [],
        "id": "6fc6c65f"
      },
      "outputs": [],
      "source": [
        "dtc_test_score_before_scaling =accuracy_score(y_test,y_predicted_test)"
      ]
    },
    {
      "cell_type": "code",
      "execution_count": 33,
      "id": "83bfbbee",
      "metadata": {
        "execution": {
          "iopub.execute_input": "2023-12-25T07:45:52.139562Z",
          "iopub.status.busy": "2023-12-25T07:45:52.139115Z",
          "iopub.status.idle": "2023-12-25T07:45:52.144458Z",
          "shell.execute_reply": "2023-12-25T07:45:52.143323Z"
        },
        "papermill": {
          "duration": 0.049437,
          "end_time": "2023-12-25T07:45:52.147577",
          "exception": false,
          "start_time": "2023-12-25T07:45:52.098140",
          "status": "completed"
        },
        "tags": [],
        "colab": {
          "base_uri": "https://localhost:8080/"
        },
        "id": "83bfbbee",
        "outputId": "302b92d8-14fd-4680-915f-53824a023e76"
      },
      "outputs": [
        {
          "output_type": "stream",
          "name": "stdout",
          "text": [
            "Test Score: 0.5348041080258653\n"
          ]
        }
      ],
      "source": [
        "print(\"Test Score:\",dtc_test_score_before_scaling)"
      ]
    },
    {
      "cell_type": "code",
      "execution_count": 34,
      "id": "03b5f672",
      "metadata": {
        "execution": {
          "iopub.execute_input": "2023-12-25T07:45:52.310610Z",
          "iopub.status.busy": "2023-12-25T07:45:52.310170Z",
          "iopub.status.idle": "2023-12-25T07:45:52.319672Z",
          "shell.execute_reply": "2023-12-25T07:45:52.318464Z"
        },
        "papermill": {
          "duration": 0.053785,
          "end_time": "2023-12-25T07:45:52.322260",
          "exception": false,
          "start_time": "2023-12-25T07:45:52.268475",
          "status": "completed"
        },
        "tags": [],
        "colab": {
          "base_uri": "https://localhost:8080/"
        },
        "id": "03b5f672",
        "outputId": "8b4a4e94-b47d-4385-bb78-0a2aff8ea0a0"
      },
      "outputs": [
        {
          "output_type": "execute_result",
          "data": {
            "text/plain": [
              "Age                                  int64\n",
              "Sex                                  int64\n",
              "Cholesterol                          int64\n",
              "Heart Rate                           int64\n",
              "Diabetes                             int64\n",
              "Smoking                              int64\n",
              "Obesity                              int64\n",
              "Alcohol Consumption                  int64\n",
              "Exercise Hours Per Week            float64\n",
              "Diet                                 int64\n",
              "Previous Heart Problems              int64\n",
              "Medication Use                       int64\n",
              "Stress Level                         int64\n",
              "Sedentary Hours Per Day            float64\n",
              "BMI                                float64\n",
              "Triglycerides                        int64\n",
              "Physical Activity Days Per Week      int64\n",
              "Sleep Hours Per Day                  int64\n",
              "Heart Attack Risk                    int64\n",
              "BP_Systolic                          int64\n",
              "BP_Diastolic                         int64\n",
              "dtype: object"
            ]
          },
          "metadata": {},
          "execution_count": 34
        }
      ],
      "source": [
        "df.dtypes"
      ]
    },
    {
      "cell_type": "code",
      "execution_count": 35,
      "id": "ccb01974",
      "metadata": {
        "execution": {
          "iopub.execute_input": "2023-12-25T07:45:52.406158Z",
          "iopub.status.busy": "2023-12-25T07:45:52.405717Z",
          "iopub.status.idle": "2023-12-25T07:45:52.422738Z",
          "shell.execute_reply": "2023-12-25T07:45:52.421419Z"
        },
        "papermill": {
          "duration": 0.062292,
          "end_time": "2023-12-25T07:45:52.425801",
          "exception": false,
          "start_time": "2023-12-25T07:45:52.363509",
          "status": "completed"
        },
        "tags": [],
        "colab": {
          "base_uri": "https://localhost:8080/"
        },
        "id": "ccb01974",
        "outputId": "28284270-9212-44c3-aef0-5459d522694f"
      },
      "outputs": [
        {
          "output_type": "execute_result",
          "data": {
            "text/plain": [
              "Age                                  73\n",
              "Sex                                   2\n",
              "Cholesterol                         281\n",
              "Heart Rate                           71\n",
              "Diabetes                              2\n",
              "Smoking                               2\n",
              "Obesity                               2\n",
              "Alcohol Consumption                   2\n",
              "Exercise Hours Per Week            8763\n",
              "Diet                                  3\n",
              "Previous Heart Problems               2\n",
              "Medication Use                        2\n",
              "Stress Level                         10\n",
              "Sedentary Hours Per Day            8763\n",
              "BMI                                8763\n",
              "Triglycerides                       771\n",
              "Physical Activity Days Per Week       8\n",
              "Sleep Hours Per Day                   7\n",
              "Heart Attack Risk                     2\n",
              "BP_Systolic                          91\n",
              "BP_Diastolic                         51\n",
              "dtype: int64"
            ]
          },
          "metadata": {},
          "execution_count": 35
        }
      ],
      "source": [
        "df.nunique()"
      ]
    },
    {
      "cell_type": "code",
      "execution_count": 36,
      "id": "16b507ae",
      "metadata": {
        "execution": {
          "iopub.execute_input": "2023-12-25T07:45:52.600733Z",
          "iopub.status.busy": "2023-12-25T07:45:52.600321Z",
          "iopub.status.idle": "2023-12-25T07:45:52.605502Z",
          "shell.execute_reply": "2023-12-25T07:45:52.604379Z"
        },
        "papermill": {
          "duration": 0.049926,
          "end_time": "2023-12-25T07:45:52.608036",
          "exception": false,
          "start_time": "2023-12-25T07:45:52.558110",
          "status": "completed"
        },
        "tags": [],
        "id": "16b507ae"
      },
      "outputs": [],
      "source": [
        "from sklearn.preprocessing import MinMaxScaler"
      ]
    },
    {
      "cell_type": "code",
      "execution_count": 37,
      "id": "e1835018",
      "metadata": {
        "execution": {
          "iopub.execute_input": "2023-12-25T07:45:52.692248Z",
          "iopub.status.busy": "2023-12-25T07:45:52.691220Z",
          "iopub.status.idle": "2023-12-25T07:45:52.696281Z",
          "shell.execute_reply": "2023-12-25T07:45:52.695138Z"
        },
        "papermill": {
          "duration": 0.050838,
          "end_time": "2023-12-25T07:45:52.699174",
          "exception": false,
          "start_time": "2023-12-25T07:45:52.648336",
          "status": "completed"
        },
        "tags": [],
        "id": "e1835018"
      },
      "outputs": [],
      "source": [
        "scaler = MinMaxScaler()"
      ]
    },
    {
      "cell_type": "code",
      "execution_count": 38,
      "id": "67495292",
      "metadata": {
        "execution": {
          "iopub.execute_input": "2023-12-25T07:45:52.783520Z",
          "iopub.status.busy": "2023-12-25T07:45:52.783066Z",
          "iopub.status.idle": "2023-12-25T07:45:52.843671Z",
          "shell.execute_reply": "2023-12-25T07:45:52.842343Z"
        },
        "papermill": {
          "duration": 0.106639,
          "end_time": "2023-12-25T07:45:52.846624",
          "exception": false,
          "start_time": "2023-12-25T07:45:52.739985",
          "status": "completed"
        },
        "tags": [],
        "id": "67495292"
      },
      "outputs": [],
      "source": [
        "for col_name in df.columns:\n",
        "    if df[col_name].nunique()>10:\n",
        "        df[col_name] = scaler.fit_transform(df[[col_name]])"
      ]
    },
    {
      "cell_type": "code",
      "execution_count": 39,
      "id": "2bf143a8",
      "metadata": {
        "execution": {
          "iopub.execute_input": "2023-12-25T07:45:52.930133Z",
          "iopub.status.busy": "2023-12-25T07:45:52.929709Z",
          "iopub.status.idle": "2023-12-25T07:45:52.955389Z",
          "shell.execute_reply": "2023-12-25T07:45:52.954234Z"
        },
        "papermill": {
          "duration": 0.070034,
          "end_time": "2023-12-25T07:45:52.958148",
          "exception": false,
          "start_time": "2023-12-25T07:45:52.888114",
          "status": "completed"
        },
        "tags": [],
        "colab": {
          "base_uri": "https://localhost:8080/",
          "height": 307
        },
        "id": "2bf143a8",
        "outputId": "ede5fcf4-247f-4159-b3d0-c753ae04ad54"
      },
      "outputs": [
        {
          "output_type": "execute_result",
          "data": {
            "text/plain": [
              "        Age  Sex  Cholesterol  Heart Rate  Diabetes  Smoking  Obesity  \\\n",
              "0  0.680556    1     0.314286    0.457143         0        1        0   \n",
              "1  0.041667    1     0.960714    0.828571         1        1        1   \n",
              "2  0.041667    0     0.728571    0.457143         1        0        0   \n",
              "3  0.916667    1     0.939286    0.471429         1        1        0   \n",
              "4  0.666667    1     0.707143    0.757143         1        1        1   \n",
              "\n",
              "   Alcohol Consumption  Exercise Hours Per Week  Diet  ...  Medication Use  \\\n",
              "0                    0                 0.208326     0  ...               0   \n",
              "1                    1                 0.090557     2  ...               0   \n",
              "2                    0                 0.103815     1  ...               1   \n",
              "3                    1                 0.491376     0  ...               0   \n",
              "4                    0                 0.290147     2  ...               0   \n",
              "\n",
              "   Stress Level  Sedentary Hours Per Day       BMI  Triglycerides  \\\n",
              "0             9                 0.551234  0.602363       0.332468   \n",
              "1             1                 0.413584  0.417945       0.266234   \n",
              "2             9                 0.788642  0.462573       0.723377   \n",
              "3             9                 0.637413  0.839394       0.451948   \n",
              "4             6                 0.126150  0.173077       0.261039   \n",
              "\n",
              "   Physical Activity Days Per Week  Sleep Hours Per Day  Heart Attack Risk  \\\n",
              "0                                0                    6                  0   \n",
              "1                                1                    7                  0   \n",
              "2                                4                    4                  0   \n",
              "3                                3                    4                  0   \n",
              "4                                1                    5                  0   \n",
              "\n",
              "   BP_Systolic  BP_Diastolic  \n",
              "0     0.755556          0.56  \n",
              "1     0.833333          0.66  \n",
              "2     0.933333          0.78  \n",
              "3     0.811111          0.80  \n",
              "4     0.011111          0.56  \n",
              "\n",
              "[5 rows x 21 columns]"
            ],
            "text/html": [
              "\n",
              "  <div id=\"df-8388b7e1-4f4a-4062-8803-ed52252f925e\" class=\"colab-df-container\">\n",
              "    <div>\n",
              "<style scoped>\n",
              "    .dataframe tbody tr th:only-of-type {\n",
              "        vertical-align: middle;\n",
              "    }\n",
              "\n",
              "    .dataframe tbody tr th {\n",
              "        vertical-align: top;\n",
              "    }\n",
              "\n",
              "    .dataframe thead th {\n",
              "        text-align: right;\n",
              "    }\n",
              "</style>\n",
              "<table border=\"1\" class=\"dataframe\">\n",
              "  <thead>\n",
              "    <tr style=\"text-align: right;\">\n",
              "      <th></th>\n",
              "      <th>Age</th>\n",
              "      <th>Sex</th>\n",
              "      <th>Cholesterol</th>\n",
              "      <th>Heart Rate</th>\n",
              "      <th>Diabetes</th>\n",
              "      <th>Smoking</th>\n",
              "      <th>Obesity</th>\n",
              "      <th>Alcohol Consumption</th>\n",
              "      <th>Exercise Hours Per Week</th>\n",
              "      <th>Diet</th>\n",
              "      <th>...</th>\n",
              "      <th>Medication Use</th>\n",
              "      <th>Stress Level</th>\n",
              "      <th>Sedentary Hours Per Day</th>\n",
              "      <th>BMI</th>\n",
              "      <th>Triglycerides</th>\n",
              "      <th>Physical Activity Days Per Week</th>\n",
              "      <th>Sleep Hours Per Day</th>\n",
              "      <th>Heart Attack Risk</th>\n",
              "      <th>BP_Systolic</th>\n",
              "      <th>BP_Diastolic</th>\n",
              "    </tr>\n",
              "  </thead>\n",
              "  <tbody>\n",
              "    <tr>\n",
              "      <th>0</th>\n",
              "      <td>0.680556</td>\n",
              "      <td>1</td>\n",
              "      <td>0.314286</td>\n",
              "      <td>0.457143</td>\n",
              "      <td>0</td>\n",
              "      <td>1</td>\n",
              "      <td>0</td>\n",
              "      <td>0</td>\n",
              "      <td>0.208326</td>\n",
              "      <td>0</td>\n",
              "      <td>...</td>\n",
              "      <td>0</td>\n",
              "      <td>9</td>\n",
              "      <td>0.551234</td>\n",
              "      <td>0.602363</td>\n",
              "      <td>0.332468</td>\n",
              "      <td>0</td>\n",
              "      <td>6</td>\n",
              "      <td>0</td>\n",
              "      <td>0.755556</td>\n",
              "      <td>0.56</td>\n",
              "    </tr>\n",
              "    <tr>\n",
              "      <th>1</th>\n",
              "      <td>0.041667</td>\n",
              "      <td>1</td>\n",
              "      <td>0.960714</td>\n",
              "      <td>0.828571</td>\n",
              "      <td>1</td>\n",
              "      <td>1</td>\n",
              "      <td>1</td>\n",
              "      <td>1</td>\n",
              "      <td>0.090557</td>\n",
              "      <td>2</td>\n",
              "      <td>...</td>\n",
              "      <td>0</td>\n",
              "      <td>1</td>\n",
              "      <td>0.413584</td>\n",
              "      <td>0.417945</td>\n",
              "      <td>0.266234</td>\n",
              "      <td>1</td>\n",
              "      <td>7</td>\n",
              "      <td>0</td>\n",
              "      <td>0.833333</td>\n",
              "      <td>0.66</td>\n",
              "    </tr>\n",
              "    <tr>\n",
              "      <th>2</th>\n",
              "      <td>0.041667</td>\n",
              "      <td>0</td>\n",
              "      <td>0.728571</td>\n",
              "      <td>0.457143</td>\n",
              "      <td>1</td>\n",
              "      <td>0</td>\n",
              "      <td>0</td>\n",
              "      <td>0</td>\n",
              "      <td>0.103815</td>\n",
              "      <td>1</td>\n",
              "      <td>...</td>\n",
              "      <td>1</td>\n",
              "      <td>9</td>\n",
              "      <td>0.788642</td>\n",
              "      <td>0.462573</td>\n",
              "      <td>0.723377</td>\n",
              "      <td>4</td>\n",
              "      <td>4</td>\n",
              "      <td>0</td>\n",
              "      <td>0.933333</td>\n",
              "      <td>0.78</td>\n",
              "    </tr>\n",
              "    <tr>\n",
              "      <th>3</th>\n",
              "      <td>0.916667</td>\n",
              "      <td>1</td>\n",
              "      <td>0.939286</td>\n",
              "      <td>0.471429</td>\n",
              "      <td>1</td>\n",
              "      <td>1</td>\n",
              "      <td>0</td>\n",
              "      <td>1</td>\n",
              "      <td>0.491376</td>\n",
              "      <td>0</td>\n",
              "      <td>...</td>\n",
              "      <td>0</td>\n",
              "      <td>9</td>\n",
              "      <td>0.637413</td>\n",
              "      <td>0.839394</td>\n",
              "      <td>0.451948</td>\n",
              "      <td>3</td>\n",
              "      <td>4</td>\n",
              "      <td>0</td>\n",
              "      <td>0.811111</td>\n",
              "      <td>0.80</td>\n",
              "    </tr>\n",
              "    <tr>\n",
              "      <th>4</th>\n",
              "      <td>0.666667</td>\n",
              "      <td>1</td>\n",
              "      <td>0.707143</td>\n",
              "      <td>0.757143</td>\n",
              "      <td>1</td>\n",
              "      <td>1</td>\n",
              "      <td>1</td>\n",
              "      <td>0</td>\n",
              "      <td>0.290147</td>\n",
              "      <td>2</td>\n",
              "      <td>...</td>\n",
              "      <td>0</td>\n",
              "      <td>6</td>\n",
              "      <td>0.126150</td>\n",
              "      <td>0.173077</td>\n",
              "      <td>0.261039</td>\n",
              "      <td>1</td>\n",
              "      <td>5</td>\n",
              "      <td>0</td>\n",
              "      <td>0.011111</td>\n",
              "      <td>0.56</td>\n",
              "    </tr>\n",
              "  </tbody>\n",
              "</table>\n",
              "<p>5 rows × 21 columns</p>\n",
              "</div>\n",
              "    <div class=\"colab-df-buttons\">\n",
              "\n",
              "  <div class=\"colab-df-container\">\n",
              "    <button class=\"colab-df-convert\" onclick=\"convertToInteractive('df-8388b7e1-4f4a-4062-8803-ed52252f925e')\"\n",
              "            title=\"Convert this dataframe to an interactive table.\"\n",
              "            style=\"display:none;\">\n",
              "\n",
              "  <svg xmlns=\"http://www.w3.org/2000/svg\" height=\"24px\" viewBox=\"0 -960 960 960\">\n",
              "    <path d=\"M120-120v-720h720v720H120Zm60-500h600v-160H180v160Zm220 220h160v-160H400v160Zm0 220h160v-160H400v160ZM180-400h160v-160H180v160Zm440 0h160v-160H620v160ZM180-180h160v-160H180v160Zm440 0h160v-160H620v160Z\"/>\n",
              "  </svg>\n",
              "    </button>\n",
              "\n",
              "  <style>\n",
              "    .colab-df-container {\n",
              "      display:flex;\n",
              "      gap: 12px;\n",
              "    }\n",
              "\n",
              "    .colab-df-convert {\n",
              "      background-color: #E8F0FE;\n",
              "      border: none;\n",
              "      border-radius: 50%;\n",
              "      cursor: pointer;\n",
              "      display: none;\n",
              "      fill: #1967D2;\n",
              "      height: 32px;\n",
              "      padding: 0 0 0 0;\n",
              "      width: 32px;\n",
              "    }\n",
              "\n",
              "    .colab-df-convert:hover {\n",
              "      background-color: #E2EBFA;\n",
              "      box-shadow: 0px 1px 2px rgba(60, 64, 67, 0.3), 0px 1px 3px 1px rgba(60, 64, 67, 0.15);\n",
              "      fill: #174EA6;\n",
              "    }\n",
              "\n",
              "    .colab-df-buttons div {\n",
              "      margin-bottom: 4px;\n",
              "    }\n",
              "\n",
              "    [theme=dark] .colab-df-convert {\n",
              "      background-color: #3B4455;\n",
              "      fill: #D2E3FC;\n",
              "    }\n",
              "\n",
              "    [theme=dark] .colab-df-convert:hover {\n",
              "      background-color: #434B5C;\n",
              "      box-shadow: 0px 1px 3px 1px rgba(0, 0, 0, 0.15);\n",
              "      filter: drop-shadow(0px 1px 2px rgba(0, 0, 0, 0.3));\n",
              "      fill: #FFFFFF;\n",
              "    }\n",
              "  </style>\n",
              "\n",
              "    <script>\n",
              "      const buttonEl =\n",
              "        document.querySelector('#df-8388b7e1-4f4a-4062-8803-ed52252f925e button.colab-df-convert');\n",
              "      buttonEl.style.display =\n",
              "        google.colab.kernel.accessAllowed ? 'block' : 'none';\n",
              "\n",
              "      async function convertToInteractive(key) {\n",
              "        const element = document.querySelector('#df-8388b7e1-4f4a-4062-8803-ed52252f925e');\n",
              "        const dataTable =\n",
              "          await google.colab.kernel.invokeFunction('convertToInteractive',\n",
              "                                                    [key], {});\n",
              "        if (!dataTable) return;\n",
              "\n",
              "        const docLinkHtml = 'Like what you see? Visit the ' +\n",
              "          '<a target=\"_blank\" href=https://colab.research.google.com/notebooks/data_table.ipynb>data table notebook</a>'\n",
              "          + ' to learn more about interactive tables.';\n",
              "        element.innerHTML = '';\n",
              "        dataTable['output_type'] = 'display_data';\n",
              "        await google.colab.output.renderOutput(dataTable, element);\n",
              "        const docLink = document.createElement('div');\n",
              "        docLink.innerHTML = docLinkHtml;\n",
              "        element.appendChild(docLink);\n",
              "      }\n",
              "    </script>\n",
              "  </div>\n",
              "\n",
              "\n",
              "<div id=\"df-098bf1fa-2753-43ac-b2ff-8255b0e0755d\">\n",
              "  <button class=\"colab-df-quickchart\" onclick=\"quickchart('df-098bf1fa-2753-43ac-b2ff-8255b0e0755d')\"\n",
              "            title=\"Suggest charts\"\n",
              "            style=\"display:none;\">\n",
              "\n",
              "<svg xmlns=\"http://www.w3.org/2000/svg\" height=\"24px\"viewBox=\"0 0 24 24\"\n",
              "     width=\"24px\">\n",
              "    <g>\n",
              "        <path d=\"M19 3H5c-1.1 0-2 .9-2 2v14c0 1.1.9 2 2 2h14c1.1 0 2-.9 2-2V5c0-1.1-.9-2-2-2zM9 17H7v-7h2v7zm4 0h-2V7h2v10zm4 0h-2v-4h2v4z\"/>\n",
              "    </g>\n",
              "</svg>\n",
              "  </button>\n",
              "\n",
              "<style>\n",
              "  .colab-df-quickchart {\n",
              "      --bg-color: #E8F0FE;\n",
              "      --fill-color: #1967D2;\n",
              "      --hover-bg-color: #E2EBFA;\n",
              "      --hover-fill-color: #174EA6;\n",
              "      --disabled-fill-color: #AAA;\n",
              "      --disabled-bg-color: #DDD;\n",
              "  }\n",
              "\n",
              "  [theme=dark] .colab-df-quickchart {\n",
              "      --bg-color: #3B4455;\n",
              "      --fill-color: #D2E3FC;\n",
              "      --hover-bg-color: #434B5C;\n",
              "      --hover-fill-color: #FFFFFF;\n",
              "      --disabled-bg-color: #3B4455;\n",
              "      --disabled-fill-color: #666;\n",
              "  }\n",
              "\n",
              "  .colab-df-quickchart {\n",
              "    background-color: var(--bg-color);\n",
              "    border: none;\n",
              "    border-radius: 50%;\n",
              "    cursor: pointer;\n",
              "    display: none;\n",
              "    fill: var(--fill-color);\n",
              "    height: 32px;\n",
              "    padding: 0;\n",
              "    width: 32px;\n",
              "  }\n",
              "\n",
              "  .colab-df-quickchart:hover {\n",
              "    background-color: var(--hover-bg-color);\n",
              "    box-shadow: 0 1px 2px rgba(60, 64, 67, 0.3), 0 1px 3px 1px rgba(60, 64, 67, 0.15);\n",
              "    fill: var(--button-hover-fill-color);\n",
              "  }\n",
              "\n",
              "  .colab-df-quickchart-complete:disabled,\n",
              "  .colab-df-quickchart-complete:disabled:hover {\n",
              "    background-color: var(--disabled-bg-color);\n",
              "    fill: var(--disabled-fill-color);\n",
              "    box-shadow: none;\n",
              "  }\n",
              "\n",
              "  .colab-df-spinner {\n",
              "    border: 2px solid var(--fill-color);\n",
              "    border-color: transparent;\n",
              "    border-bottom-color: var(--fill-color);\n",
              "    animation:\n",
              "      spin 1s steps(1) infinite;\n",
              "  }\n",
              "\n",
              "  @keyframes spin {\n",
              "    0% {\n",
              "      border-color: transparent;\n",
              "      border-bottom-color: var(--fill-color);\n",
              "      border-left-color: var(--fill-color);\n",
              "    }\n",
              "    20% {\n",
              "      border-color: transparent;\n",
              "      border-left-color: var(--fill-color);\n",
              "      border-top-color: var(--fill-color);\n",
              "    }\n",
              "    30% {\n",
              "      border-color: transparent;\n",
              "      border-left-color: var(--fill-color);\n",
              "      border-top-color: var(--fill-color);\n",
              "      border-right-color: var(--fill-color);\n",
              "    }\n",
              "    40% {\n",
              "      border-color: transparent;\n",
              "      border-right-color: var(--fill-color);\n",
              "      border-top-color: var(--fill-color);\n",
              "    }\n",
              "    60% {\n",
              "      border-color: transparent;\n",
              "      border-right-color: var(--fill-color);\n",
              "    }\n",
              "    80% {\n",
              "      border-color: transparent;\n",
              "      border-right-color: var(--fill-color);\n",
              "      border-bottom-color: var(--fill-color);\n",
              "    }\n",
              "    90% {\n",
              "      border-color: transparent;\n",
              "      border-bottom-color: var(--fill-color);\n",
              "    }\n",
              "  }\n",
              "</style>\n",
              "\n",
              "  <script>\n",
              "    async function quickchart(key) {\n",
              "      const quickchartButtonEl =\n",
              "        document.querySelector('#' + key + ' button');\n",
              "      quickchartButtonEl.disabled = true;  // To prevent multiple clicks.\n",
              "      quickchartButtonEl.classList.add('colab-df-spinner');\n",
              "      try {\n",
              "        const charts = await google.colab.kernel.invokeFunction(\n",
              "            'suggestCharts', [key], {});\n",
              "      } catch (error) {\n",
              "        console.error('Error during call to suggestCharts:', error);\n",
              "      }\n",
              "      quickchartButtonEl.classList.remove('colab-df-spinner');\n",
              "      quickchartButtonEl.classList.add('colab-df-quickchart-complete');\n",
              "    }\n",
              "    (() => {\n",
              "      let quickchartButtonEl =\n",
              "        document.querySelector('#df-098bf1fa-2753-43ac-b2ff-8255b0e0755d button');\n",
              "      quickchartButtonEl.style.display =\n",
              "        google.colab.kernel.accessAllowed ? 'block' : 'none';\n",
              "    })();\n",
              "  </script>\n",
              "</div>\n",
              "\n",
              "    </div>\n",
              "  </div>\n"
            ]
          },
          "metadata": {},
          "execution_count": 39
        }
      ],
      "source": [
        "df.head(5)"
      ]
    },
    {
      "cell_type": "markdown",
      "id": "06a0714e",
      "metadata": {
        "papermill": {
          "duration": 0.04232,
          "end_time": "2023-12-25T07:45:53.044299",
          "exception": false,
          "start_time": "2023-12-25T07:45:53.001979",
          "status": "completed"
        },
        "tags": [],
        "id": "06a0714e"
      },
      "source": [
        "<h2>Train Test Split(After Scaling)<h2>"
      ]
    },
    {
      "cell_type": "code",
      "execution_count": 40,
      "id": "aeece044",
      "metadata": {
        "execution": {
          "iopub.execute_input": "2023-12-25T07:45:53.129443Z",
          "iopub.status.busy": "2023-12-25T07:45:53.129048Z",
          "iopub.status.idle": "2023-12-25T07:45:53.136530Z",
          "shell.execute_reply": "2023-12-25T07:45:53.135402Z"
        },
        "papermill": {
          "duration": 0.053495,
          "end_time": "2023-12-25T07:45:53.139038",
          "exception": false,
          "start_time": "2023-12-25T07:45:53.085543",
          "status": "completed"
        },
        "tags": [],
        "colab": {
          "base_uri": "https://localhost:8080/"
        },
        "id": "aeece044",
        "outputId": "973b7974-c7f7-484c-8e31-1451206dc996"
      },
      "outputs": [
        {
          "output_type": "execute_result",
          "data": {
            "text/plain": [
              "(8763, 20)"
            ]
          },
          "metadata": {},
          "execution_count": 40
        }
      ],
      "source": [
        "X = df.drop(\"Heart Attack Risk\",axis = 1)\n",
        "X.shape"
      ]
    },
    {
      "cell_type": "code",
      "execution_count": 41,
      "id": "1feda9b7",
      "metadata": {
        "execution": {
          "iopub.execute_input": "2023-12-25T07:45:53.224990Z",
          "iopub.status.busy": "2023-12-25T07:45:53.223684Z",
          "iopub.status.idle": "2023-12-25T07:45:53.229491Z",
          "shell.execute_reply": "2023-12-25T07:45:53.228558Z"
        },
        "papermill": {
          "duration": 0.051381,
          "end_time": "2023-12-25T07:45:53.231840",
          "exception": false,
          "start_time": "2023-12-25T07:45:53.180459",
          "status": "completed"
        },
        "tags": [],
        "id": "1feda9b7"
      },
      "outputs": [],
      "source": [
        "y = df[\"Heart Attack Risk\"]"
      ]
    },
    {
      "cell_type": "code",
      "execution_count": 42,
      "id": "dd4cd703",
      "metadata": {
        "execution": {
          "iopub.execute_input": "2023-12-25T07:45:53.315995Z",
          "iopub.status.busy": "2023-12-25T07:45:53.314628Z",
          "iopub.status.idle": "2023-12-25T07:45:53.325666Z",
          "shell.execute_reply": "2023-12-25T07:45:53.324839Z"
        },
        "papermill": {
          "duration": 0.055678,
          "end_time": "2023-12-25T07:45:53.328223",
          "exception": false,
          "start_time": "2023-12-25T07:45:53.272545",
          "status": "completed"
        },
        "tags": [],
        "id": "dd4cd703"
      },
      "outputs": [],
      "source": [
        "X_train, X_test, y_train, y_test = train_test_split(X, y, test_size=0.30, random_state=42)"
      ]
    },
    {
      "cell_type": "markdown",
      "id": "5b1922b0",
      "metadata": {
        "papermill": {
          "duration": 0.040407,
          "end_time": "2023-12-25T07:45:53.409113",
          "exception": false,
          "start_time": "2023-12-25T07:45:53.368706",
          "status": "completed"
        },
        "tags": [],
        "id": "5b1922b0"
      },
      "source": [
        "<h2>Decision Tree Classifier(After Scaling)</h2>"
      ]
    },
    {
      "cell_type": "code",
      "execution_count": 43,
      "id": "ffd9ca9e",
      "metadata": {
        "execution": {
          "iopub.execute_input": "2023-12-25T07:45:53.494123Z",
          "iopub.status.busy": "2023-12-25T07:45:53.492860Z",
          "iopub.status.idle": "2023-12-25T07:45:53.497886Z",
          "shell.execute_reply": "2023-12-25T07:45:53.496973Z"
        },
        "papermill": {
          "duration": 0.051117,
          "end_time": "2023-12-25T07:45:53.500678",
          "exception": false,
          "start_time": "2023-12-25T07:45:53.449561",
          "status": "completed"
        },
        "tags": [],
        "id": "ffd9ca9e"
      },
      "outputs": [],
      "source": [
        "dtc_after_scaling = DecisionTreeClassifier()"
      ]
    },
    {
      "cell_type": "code",
      "execution_count": 44,
      "id": "d586a885",
      "metadata": {
        "execution": {
          "iopub.execute_input": "2023-12-25T07:45:53.586086Z",
          "iopub.status.busy": "2023-12-25T07:45:53.585339Z",
          "iopub.status.idle": "2023-12-25T07:45:53.722825Z",
          "shell.execute_reply": "2023-12-25T07:45:53.721648Z"
        },
        "papermill": {
          "duration": 0.183176,
          "end_time": "2023-12-25T07:45:53.725707",
          "exception": false,
          "start_time": "2023-12-25T07:45:53.542531",
          "status": "completed"
        },
        "tags": [],
        "colab": {
          "base_uri": "https://localhost:8080/",
          "height": 74
        },
        "id": "d586a885",
        "outputId": "1cbf2e4a-8d61-4bc3-e410-b304e41fb2ca"
      },
      "outputs": [
        {
          "output_type": "execute_result",
          "data": {
            "text/plain": [
              "DecisionTreeClassifier()"
            ],
            "text/html": [
              "<style>#sk-container-id-2 {color: black;background-color: white;}#sk-container-id-2 pre{padding: 0;}#sk-container-id-2 div.sk-toggleable {background-color: white;}#sk-container-id-2 label.sk-toggleable__label {cursor: pointer;display: block;width: 100%;margin-bottom: 0;padding: 0.3em;box-sizing: border-box;text-align: center;}#sk-container-id-2 label.sk-toggleable__label-arrow:before {content: \"▸\";float: left;margin-right: 0.25em;color: #696969;}#sk-container-id-2 label.sk-toggleable__label-arrow:hover:before {color: black;}#sk-container-id-2 div.sk-estimator:hover label.sk-toggleable__label-arrow:before {color: black;}#sk-container-id-2 div.sk-toggleable__content {max-height: 0;max-width: 0;overflow: hidden;text-align: left;background-color: #f0f8ff;}#sk-container-id-2 div.sk-toggleable__content pre {margin: 0.2em;color: black;border-radius: 0.25em;background-color: #f0f8ff;}#sk-container-id-2 input.sk-toggleable__control:checked~div.sk-toggleable__content {max-height: 200px;max-width: 100%;overflow: auto;}#sk-container-id-2 input.sk-toggleable__control:checked~label.sk-toggleable__label-arrow:before {content: \"▾\";}#sk-container-id-2 div.sk-estimator input.sk-toggleable__control:checked~label.sk-toggleable__label {background-color: #d4ebff;}#sk-container-id-2 div.sk-label input.sk-toggleable__control:checked~label.sk-toggleable__label {background-color: #d4ebff;}#sk-container-id-2 input.sk-hidden--visually {border: 0;clip: rect(1px 1px 1px 1px);clip: rect(1px, 1px, 1px, 1px);height: 1px;margin: -1px;overflow: hidden;padding: 0;position: absolute;width: 1px;}#sk-container-id-2 div.sk-estimator {font-family: monospace;background-color: #f0f8ff;border: 1px dotted black;border-radius: 0.25em;box-sizing: border-box;margin-bottom: 0.5em;}#sk-container-id-2 div.sk-estimator:hover {background-color: #d4ebff;}#sk-container-id-2 div.sk-parallel-item::after {content: \"\";width: 100%;border-bottom: 1px solid gray;flex-grow: 1;}#sk-container-id-2 div.sk-label:hover label.sk-toggleable__label {background-color: #d4ebff;}#sk-container-id-2 div.sk-serial::before {content: \"\";position: absolute;border-left: 1px solid gray;box-sizing: border-box;top: 0;bottom: 0;left: 50%;z-index: 0;}#sk-container-id-2 div.sk-serial {display: flex;flex-direction: column;align-items: center;background-color: white;padding-right: 0.2em;padding-left: 0.2em;position: relative;}#sk-container-id-2 div.sk-item {position: relative;z-index: 1;}#sk-container-id-2 div.sk-parallel {display: flex;align-items: stretch;justify-content: center;background-color: white;position: relative;}#sk-container-id-2 div.sk-item::before, #sk-container-id-2 div.sk-parallel-item::before {content: \"\";position: absolute;border-left: 1px solid gray;box-sizing: border-box;top: 0;bottom: 0;left: 50%;z-index: -1;}#sk-container-id-2 div.sk-parallel-item {display: flex;flex-direction: column;z-index: 1;position: relative;background-color: white;}#sk-container-id-2 div.sk-parallel-item:first-child::after {align-self: flex-end;width: 50%;}#sk-container-id-2 div.sk-parallel-item:last-child::after {align-self: flex-start;width: 50%;}#sk-container-id-2 div.sk-parallel-item:only-child::after {width: 0;}#sk-container-id-2 div.sk-dashed-wrapped {border: 1px dashed gray;margin: 0 0.4em 0.5em 0.4em;box-sizing: border-box;padding-bottom: 0.4em;background-color: white;}#sk-container-id-2 div.sk-label label {font-family: monospace;font-weight: bold;display: inline-block;line-height: 1.2em;}#sk-container-id-2 div.sk-label-container {text-align: center;}#sk-container-id-2 div.sk-container {/* jupyter's `normalize.less` sets `[hidden] { display: none; }` but bootstrap.min.css set `[hidden] { display: none !important; }` so we also need the `!important` here to be able to override the default hidden behavior on the sphinx rendered scikit-learn.org. See: https://github.com/scikit-learn/scikit-learn/issues/21755 */display: inline-block !important;position: relative;}#sk-container-id-2 div.sk-text-repr-fallback {display: none;}</style><div id=\"sk-container-id-2\" class=\"sk-top-container\"><div class=\"sk-text-repr-fallback\"><pre>DecisionTreeClassifier()</pre><b>In a Jupyter environment, please rerun this cell to show the HTML representation or trust the notebook. <br />On GitHub, the HTML representation is unable to render, please try loading this page with nbviewer.org.</b></div><div class=\"sk-container\" hidden><div class=\"sk-item\"><div class=\"sk-estimator sk-toggleable\"><input class=\"sk-toggleable__control sk-hidden--visually\" id=\"sk-estimator-id-2\" type=\"checkbox\" checked><label for=\"sk-estimator-id-2\" class=\"sk-toggleable__label sk-toggleable__label-arrow\">DecisionTreeClassifier</label><div class=\"sk-toggleable__content\"><pre>DecisionTreeClassifier()</pre></div></div></div></div></div>"
            ]
          },
          "metadata": {},
          "execution_count": 44
        }
      ],
      "source": [
        "dtc_after_scaling.fit(X_train,y_train)"
      ]
    },
    {
      "cell_type": "code",
      "execution_count": 45,
      "id": "9c13da5a",
      "metadata": {
        "execution": {
          "iopub.execute_input": "2023-12-25T07:45:53.809889Z",
          "iopub.status.busy": "2023-12-25T07:45:53.809433Z",
          "iopub.status.idle": "2023-12-25T07:45:53.820222Z",
          "shell.execute_reply": "2023-12-25T07:45:53.818979Z"
        },
        "papermill": {
          "duration": 0.055399,
          "end_time": "2023-12-25T07:45:53.822801",
          "exception": false,
          "start_time": "2023-12-25T07:45:53.767402",
          "status": "completed"
        },
        "tags": [],
        "id": "9c13da5a"
      },
      "outputs": [],
      "source": [
        "y_predicted_train_dtc = dtc_after_scaling.predict(X_train)"
      ]
    },
    {
      "cell_type": "code",
      "execution_count": 46,
      "id": "f282f1c4",
      "metadata": {
        "execution": {
          "iopub.execute_input": "2023-12-25T07:45:53.906402Z",
          "iopub.status.busy": "2023-12-25T07:45:53.905421Z",
          "iopub.status.idle": "2023-12-25T07:45:53.912789Z",
          "shell.execute_reply": "2023-12-25T07:45:53.911454Z"
        },
        "papermill": {
          "duration": 0.051968,
          "end_time": "2023-12-25T07:45:53.915567",
          "exception": false,
          "start_time": "2023-12-25T07:45:53.863599",
          "status": "completed"
        },
        "tags": [],
        "id": "f282f1c4"
      },
      "outputs": [],
      "source": [
        "dtc_train_score = accuracy_score(y_train,y_predicted_train_dtc)"
      ]
    },
    {
      "cell_type": "code",
      "execution_count": 47,
      "id": "8fa036c3",
      "metadata": {
        "execution": {
          "iopub.execute_input": "2023-12-25T07:45:54.003268Z",
          "iopub.status.busy": "2023-12-25T07:45:54.002449Z",
          "iopub.status.idle": "2023-12-25T07:45:54.007972Z",
          "shell.execute_reply": "2023-12-25T07:45:54.007090Z"
        },
        "papermill": {
          "duration": 0.052542,
          "end_time": "2023-12-25T07:45:54.010176",
          "exception": false,
          "start_time": "2023-12-25T07:45:53.957634",
          "status": "completed"
        },
        "tags": [],
        "colab": {
          "base_uri": "https://localhost:8080/"
        },
        "id": "8fa036c3",
        "outputId": "cb0453ae-8731-4775-80c6-4febd35e022c"
      },
      "outputs": [
        {
          "output_type": "stream",
          "name": "stdout",
          "text": [
            "Train Score: 1.0\n"
          ]
        }
      ],
      "source": [
        "print(\"Train Score:\",dtc_train_score)"
      ]
    },
    {
      "cell_type": "code",
      "execution_count": 48,
      "id": "b5e5ddb2",
      "metadata": {
        "execution": {
          "iopub.execute_input": "2023-12-25T07:45:54.093773Z",
          "iopub.status.busy": "2023-12-25T07:45:54.093327Z",
          "iopub.status.idle": "2023-12-25T07:45:54.103110Z",
          "shell.execute_reply": "2023-12-25T07:45:54.101811Z"
        },
        "papermill": {
          "duration": 0.05476,
          "end_time": "2023-12-25T07:45:54.105568",
          "exception": false,
          "start_time": "2023-12-25T07:45:54.050808",
          "status": "completed"
        },
        "tags": [],
        "id": "b5e5ddb2"
      },
      "outputs": [],
      "source": [
        "y_predicted_test_dtc =  dtc_after_scaling.predict(X_test)"
      ]
    },
    {
      "cell_type": "code",
      "execution_count": 49,
      "id": "716c2f2b",
      "metadata": {
        "execution": {
          "iopub.execute_input": "2023-12-25T07:45:54.189230Z",
          "iopub.status.busy": "2023-12-25T07:45:54.188808Z",
          "iopub.status.idle": "2023-12-25T07:45:54.195384Z",
          "shell.execute_reply": "2023-12-25T07:45:54.194231Z"
        },
        "papermill": {
          "duration": 0.051385,
          "end_time": "2023-12-25T07:45:54.197629",
          "exception": false,
          "start_time": "2023-12-25T07:45:54.146244",
          "status": "completed"
        },
        "tags": [],
        "id": "716c2f2b"
      },
      "outputs": [],
      "source": [
        "dtc_test_score = accuracy_score(y_test,y_predicted_test_dtc)"
      ]
    },
    {
      "cell_type": "code",
      "execution_count": 50,
      "id": "1301884a",
      "metadata": {
        "execution": {
          "iopub.execute_input": "2023-12-25T07:45:54.282352Z",
          "iopub.status.busy": "2023-12-25T07:45:54.281923Z",
          "iopub.status.idle": "2023-12-25T07:45:54.287170Z",
          "shell.execute_reply": "2023-12-25T07:45:54.286335Z"
        },
        "papermill": {
          "duration": 0.051047,
          "end_time": "2023-12-25T07:45:54.289419",
          "exception": false,
          "start_time": "2023-12-25T07:45:54.238372",
          "status": "completed"
        },
        "tags": [],
        "colab": {
          "base_uri": "https://localhost:8080/"
        },
        "id": "1301884a",
        "outputId": "5e697ae1-8f27-445f-c88b-2a6aaeae5948"
      },
      "outputs": [
        {
          "output_type": "stream",
          "name": "stdout",
          "text": [
            "Test Score: 0.5477367820464055\n"
          ]
        }
      ],
      "source": [
        "print(\"Test Score:\",dtc_test_score)"
      ]
    },
    {
      "cell_type": "markdown",
      "id": "ef6f584f",
      "metadata": {
        "papermill": {
          "duration": 0.04204,
          "end_time": "2023-12-25T07:45:54.974067",
          "exception": false,
          "start_time": "2023-12-25T07:45:54.932027",
          "status": "completed"
        },
        "tags": [],
        "id": "ef6f584f"
      },
      "source": [
        "<p>As we can see, the train and test accuracy of Decision Tree Classifier before and after scaling is quite marginal.\n",
        "We are going to use the scaled train-test set from now on so that our ml models can process the data\n",
        "more efficiently</p>"
      ]
    },
    {
      "cell_type": "markdown",
      "id": "216530af",
      "metadata": {
        "papermill": {
          "duration": 0.042618,
          "end_time": "2023-12-25T07:45:55.062550",
          "exception": false,
          "start_time": "2023-12-25T07:45:55.019932",
          "status": "completed"
        },
        "tags": [],
        "id": "216530af"
      },
      "source": [
        "<h2>Random Forest Classifier</h2>"
      ]
    },
    {
      "cell_type": "code",
      "execution_count": 51,
      "id": "cf617360",
      "metadata": {
        "execution": {
          "iopub.execute_input": "2023-12-25T07:45:55.151996Z",
          "iopub.status.busy": "2023-12-25T07:45:55.150826Z",
          "iopub.status.idle": "2023-12-25T07:45:55.226953Z",
          "shell.execute_reply": "2023-12-25T07:45:55.225956Z"
        },
        "papermill": {
          "duration": 0.122363,
          "end_time": "2023-12-25T07:45:55.229664",
          "exception": false,
          "start_time": "2023-12-25T07:45:55.107301",
          "status": "completed"
        },
        "tags": [],
        "colab": {
          "base_uri": "https://localhost:8080/",
          "height": 74
        },
        "id": "cf617360",
        "outputId": "4d9c3ad6-3fb1-4317-9d6b-33cc03c90d1e"
      },
      "outputs": [
        {
          "output_type": "execute_result",
          "data": {
            "text/plain": [
              "RandomForestClassifier()"
            ],
            "text/html": [
              "<style>#sk-container-id-3 {color: black;background-color: white;}#sk-container-id-3 pre{padding: 0;}#sk-container-id-3 div.sk-toggleable {background-color: white;}#sk-container-id-3 label.sk-toggleable__label {cursor: pointer;display: block;width: 100%;margin-bottom: 0;padding: 0.3em;box-sizing: border-box;text-align: center;}#sk-container-id-3 label.sk-toggleable__label-arrow:before {content: \"▸\";float: left;margin-right: 0.25em;color: #696969;}#sk-container-id-3 label.sk-toggleable__label-arrow:hover:before {color: black;}#sk-container-id-3 div.sk-estimator:hover label.sk-toggleable__label-arrow:before {color: black;}#sk-container-id-3 div.sk-toggleable__content {max-height: 0;max-width: 0;overflow: hidden;text-align: left;background-color: #f0f8ff;}#sk-container-id-3 div.sk-toggleable__content pre {margin: 0.2em;color: black;border-radius: 0.25em;background-color: #f0f8ff;}#sk-container-id-3 input.sk-toggleable__control:checked~div.sk-toggleable__content {max-height: 200px;max-width: 100%;overflow: auto;}#sk-container-id-3 input.sk-toggleable__control:checked~label.sk-toggleable__label-arrow:before {content: \"▾\";}#sk-container-id-3 div.sk-estimator input.sk-toggleable__control:checked~label.sk-toggleable__label {background-color: #d4ebff;}#sk-container-id-3 div.sk-label input.sk-toggleable__control:checked~label.sk-toggleable__label {background-color: #d4ebff;}#sk-container-id-3 input.sk-hidden--visually {border: 0;clip: rect(1px 1px 1px 1px);clip: rect(1px, 1px, 1px, 1px);height: 1px;margin: -1px;overflow: hidden;padding: 0;position: absolute;width: 1px;}#sk-container-id-3 div.sk-estimator {font-family: monospace;background-color: #f0f8ff;border: 1px dotted black;border-radius: 0.25em;box-sizing: border-box;margin-bottom: 0.5em;}#sk-container-id-3 div.sk-estimator:hover {background-color: #d4ebff;}#sk-container-id-3 div.sk-parallel-item::after {content: \"\";width: 100%;border-bottom: 1px solid gray;flex-grow: 1;}#sk-container-id-3 div.sk-label:hover label.sk-toggleable__label {background-color: #d4ebff;}#sk-container-id-3 div.sk-serial::before {content: \"\";position: absolute;border-left: 1px solid gray;box-sizing: border-box;top: 0;bottom: 0;left: 50%;z-index: 0;}#sk-container-id-3 div.sk-serial {display: flex;flex-direction: column;align-items: center;background-color: white;padding-right: 0.2em;padding-left: 0.2em;position: relative;}#sk-container-id-3 div.sk-item {position: relative;z-index: 1;}#sk-container-id-3 div.sk-parallel {display: flex;align-items: stretch;justify-content: center;background-color: white;position: relative;}#sk-container-id-3 div.sk-item::before, #sk-container-id-3 div.sk-parallel-item::before {content: \"\";position: absolute;border-left: 1px solid gray;box-sizing: border-box;top: 0;bottom: 0;left: 50%;z-index: -1;}#sk-container-id-3 div.sk-parallel-item {display: flex;flex-direction: column;z-index: 1;position: relative;background-color: white;}#sk-container-id-3 div.sk-parallel-item:first-child::after {align-self: flex-end;width: 50%;}#sk-container-id-3 div.sk-parallel-item:last-child::after {align-self: flex-start;width: 50%;}#sk-container-id-3 div.sk-parallel-item:only-child::after {width: 0;}#sk-container-id-3 div.sk-dashed-wrapped {border: 1px dashed gray;margin: 0 0.4em 0.5em 0.4em;box-sizing: border-box;padding-bottom: 0.4em;background-color: white;}#sk-container-id-3 div.sk-label label {font-family: monospace;font-weight: bold;display: inline-block;line-height: 1.2em;}#sk-container-id-3 div.sk-label-container {text-align: center;}#sk-container-id-3 div.sk-container {/* jupyter's `normalize.less` sets `[hidden] { display: none; }` but bootstrap.min.css set `[hidden] { display: none !important; }` so we also need the `!important` here to be able to override the default hidden behavior on the sphinx rendered scikit-learn.org. See: https://github.com/scikit-learn/scikit-learn/issues/21755 */display: inline-block !important;position: relative;}#sk-container-id-3 div.sk-text-repr-fallback {display: none;}</style><div id=\"sk-container-id-3\" class=\"sk-top-container\"><div class=\"sk-text-repr-fallback\"><pre>RandomForestClassifier()</pre><b>In a Jupyter environment, please rerun this cell to show the HTML representation or trust the notebook. <br />On GitHub, the HTML representation is unable to render, please try loading this page with nbviewer.org.</b></div><div class=\"sk-container\" hidden><div class=\"sk-item\"><div class=\"sk-estimator sk-toggleable\"><input class=\"sk-toggleable__control sk-hidden--visually\" id=\"sk-estimator-id-3\" type=\"checkbox\" checked><label for=\"sk-estimator-id-3\" class=\"sk-toggleable__label sk-toggleable__label-arrow\">RandomForestClassifier</label><div class=\"sk-toggleable__content\"><pre>RandomForestClassifier()</pre></div></div></div></div></div>"
            ]
          },
          "metadata": {},
          "execution_count": 51
        }
      ],
      "source": [
        "from sklearn.ensemble import RandomForestClassifier\n",
        "\n",
        "rfc = RandomForestClassifier()\n",
        "rfc.fit(X_train,y_train)"
      ]
    },
    {
      "cell_type": "code",
      "execution_count": 52,
      "id": "2c21b161",
      "metadata": {
        "execution": {
          "iopub.execute_input": "2023-12-25T07:45:57.690148Z",
          "iopub.status.busy": "2023-12-25T07:45:57.689690Z",
          "iopub.status.idle": "2023-12-25T07:45:57.834773Z",
          "shell.execute_reply": "2023-12-25T07:45:57.833339Z"
        },
        "papermill": {
          "duration": 0.193246,
          "end_time": "2023-12-25T07:45:57.837565",
          "exception": false,
          "start_time": "2023-12-25T07:45:57.644319",
          "status": "completed"
        },
        "tags": [],
        "id": "2c21b161"
      },
      "outputs": [],
      "source": [
        "y_predicted_train_rfc = rfc.predict(X_train)"
      ]
    },
    {
      "cell_type": "code",
      "execution_count": 53,
      "id": "3405a14e",
      "metadata": {
        "execution": {
          "iopub.execute_input": "2023-12-25T07:45:57.928915Z",
          "iopub.status.busy": "2023-12-25T07:45:57.928464Z",
          "iopub.status.idle": "2023-12-25T07:45:57.935251Z",
          "shell.execute_reply": "2023-12-25T07:45:57.934099Z"
        },
        "papermill": {
          "duration": 0.056531,
          "end_time": "2023-12-25T07:45:57.937852",
          "exception": false,
          "start_time": "2023-12-25T07:45:57.881321",
          "status": "completed"
        },
        "tags": [],
        "id": "3405a14e"
      },
      "outputs": [],
      "source": [
        "rfc_train_score = accuracy_score(y_train,y_predicted_train_rfc)"
      ]
    },
    {
      "cell_type": "code",
      "execution_count": 54,
      "id": "6eedc500",
      "metadata": {
        "execution": {
          "iopub.execute_input": "2023-12-25T07:45:58.033888Z",
          "iopub.status.busy": "2023-12-25T07:45:58.032743Z",
          "iopub.status.idle": "2023-12-25T07:45:58.041288Z",
          "shell.execute_reply": "2023-12-25T07:45:58.039961Z"
        },
        "papermill": {
          "duration": 0.064596,
          "end_time": "2023-12-25T07:45:58.044805",
          "exception": false,
          "start_time": "2023-12-25T07:45:57.980209",
          "status": "completed"
        },
        "tags": [],
        "colab": {
          "base_uri": "https://localhost:8080/"
        },
        "id": "6eedc500",
        "outputId": "1878f281-384a-4113-d918-60c57c5d480b"
      },
      "outputs": [
        {
          "output_type": "execute_result",
          "data": {
            "text/plain": [
              "1.0"
            ]
          },
          "metadata": {},
          "execution_count": 54
        }
      ],
      "source": [
        "rfc_train_score"
      ]
    },
    {
      "cell_type": "code",
      "execution_count": 55,
      "id": "53f1a790",
      "metadata": {
        "execution": {
          "iopub.execute_input": "2023-12-25T07:45:58.143990Z",
          "iopub.status.busy": "2023-12-25T07:45:58.142805Z",
          "iopub.status.idle": "2023-12-25T07:45:58.218453Z",
          "shell.execute_reply": "2023-12-25T07:45:58.217432Z"
        },
        "papermill": {
          "duration": 0.122144,
          "end_time": "2023-12-25T07:45:58.221085",
          "exception": false,
          "start_time": "2023-12-25T07:45:58.098941",
          "status": "completed"
        },
        "tags": [],
        "colab": {
          "base_uri": "https://localhost:8080/"
        },
        "id": "53f1a790",
        "outputId": "dacd191f-3689-4995-b61e-de21e328fe77"
      },
      "outputs": [
        {
          "output_type": "execute_result",
          "data": {
            "text/plain": [
              "(2629, 20)"
            ]
          },
          "metadata": {},
          "execution_count": 55
        }
      ],
      "source": [
        "\n",
        "y_predicted_test_rfc = rfc.predict(X_test)\n",
        "X_test.shape"
      ]
    },
    {
      "cell_type": "code",
      "execution_count": 56,
      "id": "f59614b8",
      "metadata": {
        "execution": {
          "iopub.execute_input": "2023-12-25T07:45:58.313571Z",
          "iopub.status.busy": "2023-12-25T07:45:58.312500Z",
          "iopub.status.idle": "2023-12-25T07:45:58.318404Z",
          "shell.execute_reply": "2023-12-25T07:45:58.317477Z"
        },
        "papermill": {
          "duration": 0.055449,
          "end_time": "2023-12-25T07:45:58.320733",
          "exception": false,
          "start_time": "2023-12-25T07:45:58.265284",
          "status": "completed"
        },
        "tags": [],
        "id": "f59614b8"
      },
      "outputs": [],
      "source": [
        "rfc_test_score = accuracy_score(y_test,y_predicted_test_rfc)"
      ]
    },
    {
      "cell_type": "code",
      "execution_count": 57,
      "id": "9607ecc5",
      "metadata": {
        "execution": {
          "iopub.execute_input": "2023-12-25T07:45:58.408694Z",
          "iopub.status.busy": "2023-12-25T07:45:58.407933Z",
          "iopub.status.idle": "2023-12-25T07:45:58.414261Z",
          "shell.execute_reply": "2023-12-25T07:45:58.413111Z"
        },
        "papermill": {
          "duration": 0.053115,
          "end_time": "2023-12-25T07:45:58.416560",
          "exception": false,
          "start_time": "2023-12-25T07:45:58.363445",
          "status": "completed"
        },
        "tags": [],
        "colab": {
          "base_uri": "https://localhost:8080/"
        },
        "id": "9607ecc5",
        "outputId": "7ea84993-09c5-442d-86f6-b51bffcc55a6"
      },
      "outputs": [
        {
          "output_type": "execute_result",
          "data": {
            "text/plain": [
              "0.6367440091289464"
            ]
          },
          "metadata": {},
          "execution_count": 57
        }
      ],
      "source": [
        "rfc_test_score"
      ]
    },
    {
      "cell_type": "markdown",
      "id": "f54f626a",
      "metadata": {
        "papermill": {
          "duration": 0.043369,
          "end_time": "2023-12-25T07:45:58.503217",
          "exception": false,
          "start_time": "2023-12-25T07:45:58.459848",
          "status": "completed"
        },
        "tags": [],
        "id": "f54f626a"
      },
      "source": [
        "<h2>KNN(K-Nearest Neighbor)</h2>"
      ]
    },
    {
      "cell_type": "code",
      "execution_count": 58,
      "id": "815dbd89",
      "metadata": {
        "execution": {
          "iopub.execute_input": "2023-12-25T07:45:58.590724Z",
          "iopub.status.busy": "2023-12-25T07:45:58.590201Z",
          "iopub.status.idle": "2023-12-25T07:45:58.595558Z",
          "shell.execute_reply": "2023-12-25T07:45:58.594136Z"
        },
        "papermill": {
          "duration": 0.052367,
          "end_time": "2023-12-25T07:45:58.598368",
          "exception": false,
          "start_time": "2023-12-25T07:45:58.546001",
          "status": "completed"
        },
        "tags": [],
        "colab": {
          "base_uri": "https://localhost:8080/",
          "height": 74
        },
        "id": "815dbd89",
        "outputId": "163ede4e-8567-47a1-fa0d-e4a21e348968"
      },
      "outputs": [
        {
          "output_type": "execute_result",
          "data": {
            "text/plain": [
              "KNeighborsClassifier(n_neighbors=3)"
            ],
            "text/html": [
              "<style>#sk-container-id-4 {color: black;background-color: white;}#sk-container-id-4 pre{padding: 0;}#sk-container-id-4 div.sk-toggleable {background-color: white;}#sk-container-id-4 label.sk-toggleable__label {cursor: pointer;display: block;width: 100%;margin-bottom: 0;padding: 0.3em;box-sizing: border-box;text-align: center;}#sk-container-id-4 label.sk-toggleable__label-arrow:before {content: \"▸\";float: left;margin-right: 0.25em;color: #696969;}#sk-container-id-4 label.sk-toggleable__label-arrow:hover:before {color: black;}#sk-container-id-4 div.sk-estimator:hover label.sk-toggleable__label-arrow:before {color: black;}#sk-container-id-4 div.sk-toggleable__content {max-height: 0;max-width: 0;overflow: hidden;text-align: left;background-color: #f0f8ff;}#sk-container-id-4 div.sk-toggleable__content pre {margin: 0.2em;color: black;border-radius: 0.25em;background-color: #f0f8ff;}#sk-container-id-4 input.sk-toggleable__control:checked~div.sk-toggleable__content {max-height: 200px;max-width: 100%;overflow: auto;}#sk-container-id-4 input.sk-toggleable__control:checked~label.sk-toggleable__label-arrow:before {content: \"▾\";}#sk-container-id-4 div.sk-estimator input.sk-toggleable__control:checked~label.sk-toggleable__label {background-color: #d4ebff;}#sk-container-id-4 div.sk-label input.sk-toggleable__control:checked~label.sk-toggleable__label {background-color: #d4ebff;}#sk-container-id-4 input.sk-hidden--visually {border: 0;clip: rect(1px 1px 1px 1px);clip: rect(1px, 1px, 1px, 1px);height: 1px;margin: -1px;overflow: hidden;padding: 0;position: absolute;width: 1px;}#sk-container-id-4 div.sk-estimator {font-family: monospace;background-color: #f0f8ff;border: 1px dotted black;border-radius: 0.25em;box-sizing: border-box;margin-bottom: 0.5em;}#sk-container-id-4 div.sk-estimator:hover {background-color: #d4ebff;}#sk-container-id-4 div.sk-parallel-item::after {content: \"\";width: 100%;border-bottom: 1px solid gray;flex-grow: 1;}#sk-container-id-4 div.sk-label:hover label.sk-toggleable__label {background-color: #d4ebff;}#sk-container-id-4 div.sk-serial::before {content: \"\";position: absolute;border-left: 1px solid gray;box-sizing: border-box;top: 0;bottom: 0;left: 50%;z-index: 0;}#sk-container-id-4 div.sk-serial {display: flex;flex-direction: column;align-items: center;background-color: white;padding-right: 0.2em;padding-left: 0.2em;position: relative;}#sk-container-id-4 div.sk-item {position: relative;z-index: 1;}#sk-container-id-4 div.sk-parallel {display: flex;align-items: stretch;justify-content: center;background-color: white;position: relative;}#sk-container-id-4 div.sk-item::before, #sk-container-id-4 div.sk-parallel-item::before {content: \"\";position: absolute;border-left: 1px solid gray;box-sizing: border-box;top: 0;bottom: 0;left: 50%;z-index: -1;}#sk-container-id-4 div.sk-parallel-item {display: flex;flex-direction: column;z-index: 1;position: relative;background-color: white;}#sk-container-id-4 div.sk-parallel-item:first-child::after {align-self: flex-end;width: 50%;}#sk-container-id-4 div.sk-parallel-item:last-child::after {align-self: flex-start;width: 50%;}#sk-container-id-4 div.sk-parallel-item:only-child::after {width: 0;}#sk-container-id-4 div.sk-dashed-wrapped {border: 1px dashed gray;margin: 0 0.4em 0.5em 0.4em;box-sizing: border-box;padding-bottom: 0.4em;background-color: white;}#sk-container-id-4 div.sk-label label {font-family: monospace;font-weight: bold;display: inline-block;line-height: 1.2em;}#sk-container-id-4 div.sk-label-container {text-align: center;}#sk-container-id-4 div.sk-container {/* jupyter's `normalize.less` sets `[hidden] { display: none; }` but bootstrap.min.css set `[hidden] { display: none !important; }` so we also need the `!important` here to be able to override the default hidden behavior on the sphinx rendered scikit-learn.org. See: https://github.com/scikit-learn/scikit-learn/issues/21755 */display: inline-block !important;position: relative;}#sk-container-id-4 div.sk-text-repr-fallback {display: none;}</style><div id=\"sk-container-id-4\" class=\"sk-top-container\"><div class=\"sk-text-repr-fallback\"><pre>KNeighborsClassifier(n_neighbors=3)</pre><b>In a Jupyter environment, please rerun this cell to show the HTML representation or trust the notebook. <br />On GitHub, the HTML representation is unable to render, please try loading this page with nbviewer.org.</b></div><div class=\"sk-container\" hidden><div class=\"sk-item\"><div class=\"sk-estimator sk-toggleable\"><input class=\"sk-toggleable__control sk-hidden--visually\" id=\"sk-estimator-id-4\" type=\"checkbox\" checked><label for=\"sk-estimator-id-4\" class=\"sk-toggleable__label sk-toggleable__label-arrow\">KNeighborsClassifier</label><div class=\"sk-toggleable__content\"><pre>KNeighborsClassifier(n_neighbors=3)</pre></div></div></div></div></div>"
            ]
          },
          "metadata": {},
          "execution_count": 58
        }
      ],
      "source": [
        "from sklearn.neighbors import KNeighborsClassifier\n",
        "\n",
        "knn = KNeighborsClassifier(n_neighbors=3)\n",
        "knn.fit(X_train,y_train)"
      ]
    },
    {
      "cell_type": "code",
      "execution_count": 59,
      "id": "c9304eea",
      "metadata": {
        "execution": {
          "iopub.execute_input": "2023-12-25T07:45:58.887235Z",
          "iopub.status.busy": "2023-12-25T07:45:58.886184Z",
          "iopub.status.idle": "2023-12-25T07:45:59.476820Z",
          "shell.execute_reply": "2023-12-25T07:45:59.475825Z"
        },
        "papermill": {
          "duration": 0.637814,
          "end_time": "2023-12-25T07:45:59.479458",
          "exception": false,
          "start_time": "2023-12-25T07:45:58.841644",
          "status": "completed"
        },
        "tags": [],
        "id": "c9304eea"
      },
      "outputs": [],
      "source": [
        "y_predicted_train_knn =  knn.predict(X_train)"
      ]
    },
    {
      "cell_type": "code",
      "execution_count": 60,
      "id": "60e01f57",
      "metadata": {
        "execution": {
          "iopub.execute_input": "2023-12-25T07:45:59.568148Z",
          "iopub.status.busy": "2023-12-25T07:45:59.567731Z",
          "iopub.status.idle": "2023-12-25T07:45:59.573892Z",
          "shell.execute_reply": "2023-12-25T07:45:59.572784Z"
        },
        "papermill": {
          "duration": 0.053289,
          "end_time": "2023-12-25T07:45:59.576791",
          "exception": false,
          "start_time": "2023-12-25T07:45:59.523502",
          "status": "completed"
        },
        "tags": [],
        "id": "60e01f57"
      },
      "outputs": [],
      "source": [
        "knn_train_score = accuracy_score(y_train,y_predicted_train_knn)"
      ]
    },
    {
      "cell_type": "code",
      "execution_count": 61,
      "id": "fbd10a85",
      "metadata": {
        "execution": {
          "iopub.execute_input": "2023-12-25T07:45:59.664502Z",
          "iopub.status.busy": "2023-12-25T07:45:59.663867Z",
          "iopub.status.idle": "2023-12-25T07:45:59.670086Z",
          "shell.execute_reply": "2023-12-25T07:45:59.668864Z"
        },
        "papermill": {
          "duration": 0.05286,
          "end_time": "2023-12-25T07:45:59.672476",
          "exception": false,
          "start_time": "2023-12-25T07:45:59.619616",
          "status": "completed"
        },
        "tags": [],
        "colab": {
          "base_uri": "https://localhost:8080/"
        },
        "id": "fbd10a85",
        "outputId": "14eeb3ef-555e-4789-f7fc-68af0253921a"
      },
      "outputs": [
        {
          "output_type": "execute_result",
          "data": {
            "text/plain": [
              "0.7742093250733616"
            ]
          },
          "metadata": {},
          "execution_count": 61
        }
      ],
      "source": [
        "knn_train_score"
      ]
    },
    {
      "cell_type": "code",
      "execution_count": 62,
      "id": "043a2233",
      "metadata": {
        "execution": {
          "iopub.execute_input": "2023-12-25T07:45:59.762126Z",
          "iopub.status.busy": "2023-12-25T07:45:59.761419Z",
          "iopub.status.idle": "2023-12-25T07:46:00.003891Z",
          "shell.execute_reply": "2023-12-25T07:46:00.002142Z"
        },
        "papermill": {
          "duration": 0.291966,
          "end_time": "2023-12-25T07:46:00.007680",
          "exception": false,
          "start_time": "2023-12-25T07:45:59.715714",
          "status": "completed"
        },
        "tags": [],
        "id": "043a2233"
      },
      "outputs": [],
      "source": [
        "y_predicted_test_knn = knn.predict(X_test)"
      ]
    },
    {
      "cell_type": "code",
      "execution_count": 63,
      "id": "cffdd886",
      "metadata": {
        "execution": {
          "iopub.execute_input": "2023-12-25T07:46:00.097818Z",
          "iopub.status.busy": "2023-12-25T07:46:00.097402Z",
          "iopub.status.idle": "2023-12-25T07:46:00.105196Z",
          "shell.execute_reply": "2023-12-25T07:46:00.103975Z"
        },
        "papermill": {
          "duration": 0.056618,
          "end_time": "2023-12-25T07:46:00.107992",
          "exception": false,
          "start_time": "2023-12-25T07:46:00.051374",
          "status": "completed"
        },
        "tags": [],
        "id": "cffdd886"
      },
      "outputs": [],
      "source": [
        "knn_test_score = accuracy_score(y_test,y_predicted_test_knn)"
      ]
    },
    {
      "cell_type": "code",
      "execution_count": 64,
      "id": "3e30f6fd",
      "metadata": {
        "execution": {
          "iopub.execute_input": "2023-12-25T07:46:00.201937Z",
          "iopub.status.busy": "2023-12-25T07:46:00.200552Z",
          "iopub.status.idle": "2023-12-25T07:46:00.207571Z",
          "shell.execute_reply": "2023-12-25T07:46:00.206299Z"
        },
        "papermill": {
          "duration": 0.054866,
          "end_time": "2023-12-25T07:46:00.210143",
          "exception": false,
          "start_time": "2023-12-25T07:46:00.155277",
          "status": "completed"
        },
        "tags": [],
        "colab": {
          "base_uri": "https://localhost:8080/"
        },
        "id": "3e30f6fd",
        "outputId": "b577f88d-2301-46c2-a4c0-600cd7b311fd"
      },
      "outputs": [
        {
          "output_type": "execute_result",
          "data": {
            "text/plain": [
              "0.5625713198934956"
            ]
          },
          "metadata": {},
          "execution_count": 64
        }
      ],
      "source": [
        "knn_test_score"
      ]
    },
    {
      "cell_type": "markdown",
      "source": [
        "##Heart Attack Risk Prediction"
      ],
      "metadata": {
        "id": "JHKhKls6VVxB"
      },
      "id": "JHKhKls6VVxB"
    },
    {
      "cell_type": "code",
      "source": [
        "def predict(Age,Sex,Cholesterol,Heart_Rate,Diabetes,Smoking,Obesity,Alcohol_Consumption,Exercise_Hours_Per_Week,Diet,Previous_Heart_Problems,Medication_Use,Stress_Level,Sedentary_Hours_Per_Day,BMI,Triglycerides,Physical_Activity_Days_Per_Week,Sleep_Hours_Per_Day,BP_Systolic,BP_Diastolic):\n",
        "  features = np.array([[Age,Sex,Cholesterol,Heart_Rate,Diabetes,Smoking,Obesity,Alcohol_Consumption,Exercise_Hours_Per_Week,Diet,Previous_Heart_Problems,Medication_Use,Stress_Level,Sedentary_Hours_Per_Day,BMI,Triglycerides,Physical_Activity_Days_Per_Week,Sleep_Hours_Per_Day,BP_Systolic,BP_Diastolic]])\n",
        "  features = scaler.fit_transform(features)\n",
        "  prediction = rfc.predict(features)\n",
        "  return prediction\n"
      ],
      "metadata": {
        "id": "mZgsWEEfZyhO"
      },
      "id": "mZgsWEEfZyhO",
      "execution_count": 65,
      "outputs": []
    },
    {
      "cell_type": "code",
      "source": [
        "predict(Age=30,Sex=1,Cholesterol=160,Heart_Rate=100,Diabetes=0,Smoking=0,Obesity=0,Alcohol_Consumption=0,Exercise_Hours_Per_Week=2,Diet=1,Previous_Heart_Problems=0,Medication_Use=0,Stress_Level=1,Sedentary_Hours_Per_Day=3,BMI=25,Triglycerides=100,Physical_Activity_Days_Per_Week=2,Sleep_Hours_Per_Day=7,BP_Systolic=120,BP_Diastolic=80)\n"
      ],
      "metadata": {
        "colab": {
          "base_uri": "https://localhost:8080/"
        },
        "id": "BoGZIlgib8-i",
        "outputId": "611cf341-8fa0-456b-a94f-37e2cb08e81c"
      },
      "id": "BoGZIlgib8-i",
      "execution_count": 66,
      "outputs": [
        {
          "output_type": "execute_result",
          "data": {
            "text/plain": [
              "array([1])"
            ]
          },
          "metadata": {},
          "execution_count": 66
        }
      ]
    },
    {
      "cell_type": "code",
      "source": [],
      "metadata": {
        "id": "xc2XTr4RkQjW"
      },
      "id": "xc2XTr4RkQjW",
      "execution_count": 66,
      "outputs": []
    }
  ],
  "metadata": {
    "kaggle": {
      "accelerator": "none",
      "dataSources": [
        {
          "datasetId": 3786485,
          "sourceId": 6552418,
          "sourceType": "datasetVersion"
        }
      ],
      "dockerImageVersionId": 30626,
      "isGpuEnabled": false,
      "isInternetEnabled": false,
      "language": "python",
      "sourceType": "notebook"
    },
    "kernelspec": {
      "display_name": "Python 3",
      "name": "python3"
    },
    "language_info": {
      "codemirror_mode": {
        "name": "ipython",
        "version": 3
      },
      "file_extension": ".py",
      "mimetype": "text/x-python",
      "name": "python",
      "nbconvert_exporter": "python",
      "pygments_lexer": "ipython3",
      "version": "3.10.12"
    },
    "papermill": {
      "default_parameters": {},
      "duration": 26.638627,
      "end_time": "2023-12-25T07:46:05.525961",
      "environment_variables": {},
      "exception": null,
      "input_path": "__notebook__.ipynb",
      "output_path": "__notebook__.ipynb",
      "parameters": {},
      "start_time": "2023-12-25T07:45:38.887334",
      "version": "2.4.0"
    },
    "colab": {
      "provenance": [],
      "gpuType": "T4"
    },
    "accelerator": "GPU"
  },
  "nbformat": 4,
  "nbformat_minor": 5
}